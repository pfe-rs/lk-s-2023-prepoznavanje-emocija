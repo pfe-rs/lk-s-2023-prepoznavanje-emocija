{
 "cells": [
  {
   "cell_type": "code",
   "execution_count": 4,
   "metadata": {},
   "outputs": [
    {
     "name": "stderr",
     "output_type": "stream",
     "text": [
      "2023/07/27 18:40:49 INFO mlflow.tracking.fluent: Autologging successfully enabled for xgboost.\n",
      "2023/07/27 18:40:49 INFO mlflow.tracking.fluent: Autologging successfully enabled for statsmodels.\n",
      "2023/07/27 18:40:50 INFO mlflow.tracking.fluent: Autologging successfully enabled for sklearn.\n"
     ]
    }
   ],
   "source": [
    "import os\n",
    "import pandas as pd\n",
    "from xgboost import XGBClassifier\n",
    "from funkcije import *"
   ]
  },
  {
   "cell_type": "code",
   "execution_count": 2,
   "metadata": {},
   "outputs": [],
   "source": [
    "nemci = pd.read_csv(\"baza_labelirana.csv\")\n",
    "\n",
    "X = nemci[['hurstovi', 'duzine', 'odnos_tišine_i_govora',\n",
    " 'najduža_priča', 'zcr_prosek', 'zcr_min', 'zcr_max', 'zcr_med', 'zcr_stdev',\n",
    " 'pitch_prosek', 'pitch_min', 'pitch_max', 'pitch_med', 'pitch_stdev',\n",
    " 'energija_prosek', 'energija_min', 'energija_max', 'energija_stdev',\n",
    " 'eng_bez_tis', 'eng_bez_tis_avg', 'eng_bez_tis_min', 'eng_bez_tis_max',\n",
    " 'eng_bez_tis_med', 'eng_bez_tis_stdev']]#, 'energija_ukupna']]#, 'mfcc_mean_1',\n",
    "#  'mfcc_min_1', 'mfcc_max_1', 'mfcc_med_1', 'mfcc_var_1', 'mfcc_mean_2',\n",
    "#  'mfcc_min_2', 'mfcc_max_2', 'mfcc_med_2', 'mfcc_var_2', 'mfcc_mean_3',\n",
    "#  'mfcc_min_3', 'mfcc_max_3', 'mfcc_med_3', 'mfcc_var_3', 'mfcc_mean_4',\n",
    "#  'mfcc_min_4', 'mfcc_max_4', 'mfcc_med_4', 'mfcc_var_4', 'mfcc_mean_5',\n",
    "#  'mfcc_min_5', 'mfcc_max_5', 'mfcc_med_5', 'mfcc_var_5', 'mfcc_mean_6',\n",
    "#  'mfcc_min_6', 'mfcc_max_6', 'mfcc_med_6', 'mfcc_var_6', 'mfcc_mean_7',\n",
    "#  'mfcc_min_7', 'mfcc_max_7', 'mfcc_med_7', 'mfcc_var_7', 'mfcc_mean_8',\n",
    "#  'mfcc_min_8', 'mfcc_max_8', 'mfcc_med_8', 'mfcc_var_8', 'mfcc_mean_9',\n",
    "#  'mfcc_min_9', 'mfcc_max_9', 'mfcc_med_9', 'mfcc_var_9', 'mfcc_mean_10',\n",
    "#  'mfcc_min_10', 'mfcc_max_10', 'mfcc_med_10', 'mfcc_var_10', 'mfcc_mean_11',\n",
    "#  'mfcc_min_11', 'mfcc_max_11', 'mfcc_med_11', 'mfcc_var_11', 'mfcc_mean_12',\n",
    "#  'mfcc_min_12', 'mfcc_max_12', 'mfcc_med_12', 'mfcc_var_12', 'mfcc_mean_13',\n",
    "#  'mfcc_min_13', 'mfcc_max_13', 'mfcc_med_13', 'mfcc_var_13', 'mfcc_mean_14',\n",
    "#  'mfcc_min_14', 'mfcc_max_14', 'mfcc_med_14', 'mfcc_var_14', 'mfcc_mean_15',\n",
    "#  'mfcc_min_15', 'mfcc_max_15', 'mfcc_med_15', 'mfcc_var_15', 'mfcc_mean_16',\n",
    "#  'mfcc_min_16', 'mfcc_max_16', 'mfcc_med_16', 'mfcc_var_16', 'mfcc_mean_17',\n",
    "#  'mfcc_min_17', 'mfcc_max_17', 'mfcc_med_17', 'mfcc_var_17', 'mfcc_mean_18',\n",
    "#  'mfcc_min_18', 'mfcc_max_18', 'mfcc_med_18', 'mfcc_var_18', 'mfcc_mean_19',\n",
    "#  'mfcc_min_19', 'mfcc_max_19', 'mfcc_med_19', 'mfcc_var_19', 'mfcc_mean_20',\n",
    "#  'mfcc_min_20', 'mfcc_max_20', 'mfcc_med_20', 'mfcc_var_20']]\n",
    "\n",
    "y = nemci[[\"sve\"]]"
   ]
  },
  {
   "cell_type": "code",
   "execution_count": 5,
   "metadata": {},
   "outputs": [],
   "source": [
    "X_train, X_test, y_train, y_test = train_test_split(X, y, test_size=0.3)"
   ]
  },
  {
   "cell_type": "code",
   "execution_count": 6,
   "metadata": {},
   "outputs": [
    {
     "name": "stderr",
     "output_type": "stream",
     "text": [
      "2023/07/27 18:47:43 INFO mlflow.utils.autologging_utils: Created MLflow autologging run with ID '92fdce7245514058a48eb7781d80ef12', which will track hyperparameters, performance metrics, model artifacts, and lineage information for the current xgboost workflow\n"
     ]
    }
   ],
   "source": [
    "xgb = XGBClassifier(objective='multiclass:softmax', learning_rate = 0.311,max_depth = 3, n_estimators = 500)\n",
    "xgb.fit(X_train, y_train)\n",
    "test_preds = xgb.predict(X_test)\n",
    "train_preds = xgb.predict(X_train)"
   ]
  },
  {
   "cell_type": "code",
   "execution_count": 7,
   "metadata": {},
   "outputs": [
    {
     "name": "stdout",
     "output_type": "stream",
     "text": [
      "0.6086956521739131\n"
     ]
    }
   ],
   "source": [
    "test_acc = accuracy_score(y_test, test_preds)\n",
    "print(test_acc)"
   ]
  },
  {
   "cell_type": "code",
   "execution_count": 9,
   "metadata": {},
   "outputs": [
    {
     "name": "stdout",
     "output_type": "stream",
     "text": [
      "1.1\n"
     ]
    }
   ],
   "source": [
    "train_acc = accuracy_score(y_train, train_preds)\n",
    "print(train_acc)"
   ]
  },
  {
   "cell_type": "code",
   "execution_count": 11,
   "metadata": {},
   "outputs": [
    {
     "name": "stderr",
     "output_type": "stream",
     "text": [
      "/home/zarko/.local/lib/python3.9/site-packages/sklearn/model_selection/_split.py:680: UserWarning: The least populated class in y has only 14 members, which is less than n_splits=20.\n",
      "  warnings.warn(\n",
      "2023/07/27 18:49:18 INFO mlflow.utils.autologging_utils: Created MLflow autologging run with ID '1791bd2a8e95478c8abea29b67e7fc9a', which will track hyperparameters, performance metrics, model artifacts, and lineage information for the current xgboost workflow\n"
     ]
    },
    {
     "name": "stderr",
     "output_type": "stream",
     "text": [
      "2023/07/27 18:49:20 INFO mlflow.utils.autologging_utils: Created MLflow autologging run with ID '34b6d0010c984a60bc89f76435828f36', which will track hyperparameters, performance metrics, model artifacts, and lineage information for the current xgboost workflow\n",
      "2023/07/27 18:49:22 INFO mlflow.utils.autologging_utils: Created MLflow autologging run with ID 'c93af329e648440c8d8785604534e07f', which will track hyperparameters, performance metrics, model artifacts, and lineage information for the current xgboost workflow\n",
      "2023/07/27 18:49:24 INFO mlflow.utils.autologging_utils: Created MLflow autologging run with ID '27838fceebe946978f64c175846e4d24', which will track hyperparameters, performance metrics, model artifacts, and lineage information for the current xgboost workflow\n",
      "2023/07/27 18:49:26 INFO mlflow.utils.autologging_utils: Created MLflow autologging run with ID '5b33d5493cb44ba7a42fe725ace1ef88', which will track hyperparameters, performance metrics, model artifacts, and lineage information for the current xgboost workflow\n",
      "2023/07/27 18:49:27 INFO mlflow.utils.autologging_utils: Created MLflow autologging run with ID 'de2316c65dc84712a54e0e0ab14945d6', which will track hyperparameters, performance metrics, model artifacts, and lineage information for the current xgboost workflow\n",
      "2023/07/27 18:49:29 INFO mlflow.utils.autologging_utils: Created MLflow autologging run with ID '5dd843efcc3d4c0d8f00697cfdcaf542', which will track hyperparameters, performance metrics, model artifacts, and lineage information for the current xgboost workflow\n",
      "2023/07/27 18:49:31 INFO mlflow.utils.autologging_utils: Created MLflow autologging run with ID '3d9ddfb9f6b3437ca847a5250dcaa130', which will track hyperparameters, performance metrics, model artifacts, and lineage information for the current xgboost workflow\n",
      "2023/07/27 18:49:33 INFO mlflow.utils.autologging_utils: Created MLflow autologging run with ID '79453debe80644e693f744834e22fec5', which will track hyperparameters, performance metrics, model artifacts, and lineage information for the current xgboost workflow\n",
      "2023/07/27 18:49:35 INFO mlflow.utils.autologging_utils: Created MLflow autologging run with ID '0102c53b01c443ebaa771da0cc342c24', which will track hyperparameters, performance metrics, model artifacts, and lineage information for the current xgboost workflow\n",
      "2023/07/27 18:49:36 INFO mlflow.utils.autologging_utils: Created MLflow autologging run with ID '3b9b56da47e340b3a0c8fe0c7d25795c', which will track hyperparameters, performance metrics, model artifacts, and lineage information for the current xgboost workflow\n",
      "2023/07/27 18:49:38 INFO mlflow.utils.autologging_utils: Created MLflow autologging run with ID '6dd24029970a4d08a729a3de43486c0f', which will track hyperparameters, performance metrics, model artifacts, and lineage information for the current xgboost workflow\n",
      "2023/07/27 18:49:40 INFO mlflow.utils.autologging_utils: Created MLflow autologging run with ID '2d7496c7746746dba96206095d7bdd7d', which will track hyperparameters, performance metrics, model artifacts, and lineage information for the current xgboost workflow\n",
      "2023/07/27 18:49:42 INFO mlflow.utils.autologging_utils: Created MLflow autologging run with ID '2d6f3a607eed434da867fbcc69d2199c', which will track hyperparameters, performance metrics, model artifacts, and lineage information for the current xgboost workflow\n",
      "2023/07/27 18:49:44 INFO mlflow.utils.autologging_utils: Created MLflow autologging run with ID '5fa3fa7aba3745f69bc222ff6098e071', which will track hyperparameters, performance metrics, model artifacts, and lineage information for the current xgboost workflow\n",
      "2023/07/27 18:49:46 INFO mlflow.utils.autologging_utils: Created MLflow autologging run with ID '406bf0990c99417eb31ad23db2eb5b92', which will track hyperparameters, performance metrics, model artifacts, and lineage information for the current xgboost workflow\n",
      "2023/07/27 18:49:48 INFO mlflow.utils.autologging_utils: Created MLflow autologging run with ID 'd4a6a5f69368405f8110e24a1505e8e1', which will track hyperparameters, performance metrics, model artifacts, and lineage information for the current xgboost workflow\n",
      "2023/07/27 18:49:49 INFO mlflow.utils.autologging_utils: Created MLflow autologging run with ID 'cef15e632318442198a3710ea0c7e97f', which will track hyperparameters, performance metrics, model artifacts, and lineage information for the current xgboost workflow\n",
      "2023/07/27 18:49:51 INFO mlflow.utils.autologging_utils: Created MLflow autologging run with ID '524285fca42e4308b24460aa3157b86e', which will track hyperparameters, performance metrics, model artifacts, and lineage information for the current xgboost workflow\n",
      "2023/07/27 18:49:53 INFO mlflow.utils.autologging_utils: Created MLflow autologging run with ID '5768925d8cfe45979abed75e05b85d4e', which will track hyperparameters, performance metrics, model artifacts, and lineage information for the current xgboost workflow\n"
     ]
    },
    {
     "name": "stdout",
     "output_type": "stream",
     "text": [
      "[0.66666667 0.5        0.75       0.25       0.75       0.25\n",
      " 0.625      0.375      0.5        0.625      0.625      0.75\n",
      " 0.75       0.875      0.25       0.75       0.625      0.625\n",
      " 0.5        0.375     ]\n"
     ]
    }
   ],
   "source": [
    "print ((cross_val_score(xgb, X_test, y_test, cv=20)))\n"
   ]
  },
  {
   "cell_type": "code",
   "execution_count": null,
   "metadata": {},
   "outputs": [],
   "source": []
  }
 ],
 "metadata": {
  "kernelspec": {
   "display_name": "Python 3",
   "language": "python",
   "name": "python3"
  },
  "language_info": {
   "codemirror_mode": {
    "name": "ipython",
    "version": 3
   },
   "file_extension": ".py",
   "mimetype": "text/x-python",
   "name": "python",
   "nbconvert_exporter": "python",
   "pygments_lexer": "ipython3",
   "version": "3.9.2"
  },
  "orig_nbformat": 4
 },
 "nbformat": 4,
 "nbformat_minor": 2
}
