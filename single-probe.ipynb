{
 "cells": [
  {
   "cell_type": "code",
   "execution_count": 1,
   "metadata": {},
   "outputs": [],
   "source": [
    "# importi\n",
    "from funkcije import *"
   ]
  },
  {
   "cell_type": "code",
   "execution_count": null,
   "metadata": {},
   "outputs": [],
   "source": [
    "fc = FileChooser()\n",
    "fc.show_only_dirs = True\n",
    "display(fc)"
   ]
  },
  {
   "attachments": {},
   "cell_type": "markdown",
   "metadata": {},
   "source": []
  },
  {
   "cell_type": "code",
   "execution_count": null,
   "metadata": {},
   "outputs": [],
   "source": [
    "\n",
    "samplerate, data = wavfile.read(fc.selected + \"03a01Fa.wav10\")\n",
    "# samplerate, data = wavfile.read(fc.selected + \"03a01Fa.wav\")\n",
    "print(samplerate)\n",
    "# eksperiment za split\n",
    "\n",
    "data\n",
    "len(data)\n",
    "plt.plot(data)\n",
    "energy = sum(abs(data**2))  ## ukupna energija fajla\n",
    "print(energy)\n",
    "# a = librosa.effects.split(data,top_db=10, frame_length=48,hop_length=24)\n",
    "# print(a)"
   ]
  },
  {
   "attachments": {},
   "cell_type": "markdown",
   "metadata": {},
   "source": [
    "--- \n",
    "### plotovanje dela fajla"
   ]
  },
  {
   "cell_type": "code",
   "execution_count": null,
   "metadata": {},
   "outputs": [],
   "source": [
    "od = 10000\n",
    "do = 10500\n",
    "plt.plot(data[od:do])\n",
    "plt.title(\"signal \" + fc.selected_filename + \" \" + str(od) + \" - \" + str(do))\n",
    "plt.xlabel(\"vreme[s]\")\n",
    "plt.ylabel(\"amplituda\")\n",
    "plt.show()"
   ]
  },
  {
   "attachments": {},
   "cell_type": "markdown",
   "metadata": {},
   "source": [
    "---\n",
    "### duzina fajla"
   ]
  },
  {
   "cell_type": "code",
   "execution_count": null,
   "metadata": {},
   "outputs": [],
   "source": [
    "len(data) * 1/samplerate"
   ]
  },
  {
   "cell_type": "markdown",
   "metadata": {},
   "source": []
  }
 ],
 "metadata": {
  "kernelspec": {
   "display_name": "Python 3",
   "language": "python",
   "name": "python3"
  },
  "language_info": {
   "codemirror_mode": {
    "name": "ipython",
    "version": 3
   },
   "file_extension": ".py",
   "mimetype": "text/x-python",
   "name": "python",
   "nbconvert_exporter": "python",
   "pygments_lexer": "ipython3",
   "version": "3.9.2"
  },
  "orig_nbformat": 4,
  "vscode": {
   "interpreter": {
    "hash": "916dbcbb3f70747c44a77c7bcd40155683ae19c65e1c03b4aa3499c5328201f1"
   }
  }
 },
 "nbformat": 4,
 "nbformat_minor": 2
}
