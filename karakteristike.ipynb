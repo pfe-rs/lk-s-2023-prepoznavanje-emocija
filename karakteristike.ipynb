{
 "cells": [
  {
   "cell_type": "markdown",
   "metadata": {},
   "source": [
    "### duzine svih fajlova iz foldera"
   ]
  },
  {
   "cell_type": "code",
   "execution_count": 2,
   "metadata": {},
   "outputs": [],
   "source": [
    "from funkcije import *"
   ]
  },
  {
   "cell_type": "code",
   "execution_count": 3,
   "metadata": {},
   "outputs": [
    {
     "data": {
      "application/vnd.jupyter.widget-view+json": {
       "model_id": "b1c68632c1254f38abf46c4aed477f70",
       "version_major": 2,
       "version_minor": 0
      },
      "text/plain": [
       "FileChooser(path='/home/zarko/PFE/prepoznavanje-emocija/lk-s-2023-prepoznavanje-emocija', filename='', title='…"
      ]
     },
     "metadata": {},
     "output_type": "display_data"
    }
   ],
   "source": [
    "fc = biraj_bazu()"
   ]
  },
  {
   "cell_type": "code",
   "execution_count": 4,
   "metadata": {},
   "outputs": [
    {
     "name": "stderr",
     "output_type": "stream",
     "text": [
      "/tmp/ipykernel_2824313/2256107397.py:16: WavFileWarning: Chunk (non-data) not understood, skipping it.\n",
      "  samplerate, data = wavfile.read(fc.selected + filename)\n"
     ]
    }
   ],
   "source": [
    "duzine1 = []\n",
    "duzine2 = []\n",
    "\n",
    "proseci1 = []\n",
    "proseci2 = []\n",
    "\n",
    "directory = os.fsencode(fc.selected)\n",
    "    \n",
    "lista_fajlova = os.listdir(directory)\n",
    "lista_fajlova.sort()\n",
    "\n",
    "for file in lista_fajlova:\n",
    "     filename = os.fsdecode(file)\n",
    "     if filename.endswith(\".wav\"): \n",
    "\n",
    "          samplerate, data = wavfile.read(fc.selected + filename)\n",
    "          duzina = len(data) * 1/samplerate\n",
    "\n",
    "          suma = 0\n",
    "          for i in data:\n",
    "             suma += i\n",
    "          # sm = sum(data)\n",
    "          avg = suma/len(data);\n",
    "          # print(suma)\n",
    "          #W, L, E, A, F, T, N - emocije \n",
    "\n",
    "          \n",
    "          emocija = filename[5]\n",
    "\n",
    "\n",
    "         #  print(filename + \": Duzina: \", duzina, \" [s] , avg: \", avg)\n",
    "\n",
    " "
   ]
  },
  {
   "cell_type": "code",
   "execution_count": null,
   "metadata": {},
   "outputs": [],
   "source": [
    "duzine1\n",
    "duzine2"
   ]
  },
  {
   "cell_type": "code",
   "execution_count": 5,
   "metadata": {},
   "outputs": [],
   "source": [
    "sns.set()"
   ]
  },
  {
   "cell_type": "code",
   "execution_count": 6,
   "metadata": {},
   "outputs": [
    {
     "data": {
      "text/plain": [
       "[<matplotlib.lines.Line2D at 0x7fa1cf149910>]"
      ]
     },
     "execution_count": 6,
     "metadata": {},
     "output_type": "execute_result"
    },
    {
     "data": {
      "image/png": "[encoded data removed]",
      "text/plain": [
       "<Figure size 432x288 with 1 Axes>"
      ]
     },
     "metadata": {},
     "output_type": "display_data"
    }
   ],
   "source": [
    "plt.plot(duzine1)\n",
    "plt.plot(duzine2)\n"
   ]
  },
  {
   "cell_type": "code",
   "execution_count": 7,
   "metadata": {},
   "outputs": [
    {
     "data": {
      "text/plain": [
       "[<matplotlib.lines.Line2D at 0x7fa1d12e9880>]"
      ]
     },
     "execution_count": 7,
     "metadata": {},
     "output_type": "execute_result"
    },
    {
     "data": {
      "image/png": "[encoded data removed]",
      "text/plain": [
       "<Figure size 432x288 with 1 Axes>"
      ]
     },
     "metadata": {},
     "output_type": "display_data"
    }
   ],
   "source": [
    "plt.plot(proseci1)\n",
    "plt.plot(proseci2)"
   ]
  },
  {
   "attachments": {},
   "cell_type": "markdown",
   "metadata": {},
   "source": [
    "### koliko ima svake emocije ukupno i ostale informacije o tome\n",
    "---"
   ]
  }
 ],
 "metadata": {
  "kernelspec": {
   "display_name": "Python 3",
   "language": "python",
   "name": "python3"
  },
  "language_info": {
   "codemirror_mode": {
    "name": "ipython",
    "version": 3
   },
   "file_extension": ".py",
   "mimetype": "text/x-python",
   "name": "python",
   "nbconvert_exporter": "python",
   "pygments_lexer": "ipython3",
   "version": "3.9.2"
  },
  "orig_nbformat": 4,
  "vscode": {
   "interpreter": {
    "hash": "916dbcbb3f70747c44a77c7bcd40155683ae19c65e1c03b4aa3499c5328201f1"
   }
  }
 },
 "nbformat": 4,
 "nbformat_minor": 2
}
