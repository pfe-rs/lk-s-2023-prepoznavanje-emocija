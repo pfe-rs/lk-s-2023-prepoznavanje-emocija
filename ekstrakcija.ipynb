{
 "cells": [
  {
   "attachments": {},
   "cell_type": "markdown",
   "metadata": {},
   "source": [
    "## Ucitavanje baze"
   ]
  },
  {
   "cell_type": "code",
   "execution_count": 1,
   "metadata": {},
   "outputs": [],
   "source": [
    "from funkcije import *"
   ]
  },
  {
   "cell_type": "code",
   "execution_count": 2,
   "metadata": {},
   "outputs": [
    {
     "data": {
      "application/vnd.jupyter.widget-view+json": {
       "model_id": "f1e9c28d37684d36bb6a5c3d06aabe99",
       "version_major": 2,
       "version_minor": 0
      },
      "text/plain": [
       "FileChooser(path='/home/zarko/PFE/prepoznavanje-emocija/lk-s-2023-prepoznavanje-emocija/baza/emodb/wav', filen…"
      ]
     },
     "metadata": {},
     "output_type": "display_data"
    }
   ],
   "source": [
    "baza_location = biraj_bazu()"
   ]
  },
  {
   "cell_type": "code",
   "execution_count": 3,
   "metadata": {},
   "outputs": [
    {
     "name": "stdout",
     "output_type": "stream",
     "text": [
      "greska sa citanjem fajla:/home/zarko/PFE/prepoznavanje-emocija/lk-s-2023-prepoznavanje-emocija/baza/emodb/wav/newbaza\n"
     ]
    },
    {
     "name": "stderr",
     "output_type": "stream",
     "text": [
      "/home/zarko/PFE/prepoznavanje-emocija/lk-s-2023-prepoznavanje-emocija/funkcije.py:69: UserWarning: PySoundFile failed. Trying audioread instead.\n",
      "  data, samplerate = librosa.load(fc.selected + filename)\n",
      "/home/zarko/.local/lib/python3.9/site-packages/librosa/core/audio.py:184: FutureWarning: librosa.core.audio.__audioread_load\n",
      "\tDeprecated as of librosa version 0.10.0.\n",
      "\tIt will be removed in librosa version 1.0.\n",
      "  y, sr_native = __audioread_load(path, offset, duration, dtype)\n"
     ]
    }
   ],
   "source": [
    "baza = ucitaj_bazu(baza_location)"
   ]
  },
  {
   "cell_type": "code",
   "execution_count": 4,
   "metadata": {},
   "outputs": [],
   "source": [
    "#liste ficera \n",
    "hurstovi = []\n",
    "duzine = [] \n",
    "odnostig = []\n",
    "najduzaprica = []\n",
    "mfccovi = []\n",
    "\n",
    "zcrovi = [] #lokalni\n",
    "pitchovi = []\n",
    "\n",
    "zcr_prosek = [] #globalni\n",
    "zcr_min = []\n",
    "zcr_max = []\n",
    "zcr_med = []\n",
    "zcr_stdev = []\n",
    "\n",
    "pitch_prosek = [] #globalni \n",
    "pitch_min = []\n",
    "pitch_max = []\n",
    "pitch_med = []\n",
    "pitch_stdev = []\n",
    "\n",
    "energije_short_term = []\n",
    "energije_short_term_silence = []\n",
    "\n",
    "frame_lenght = 480 \n",
    "hop_lenght = frame_lenght//2\n",
    "\n",
    "\n",
    "frame_length_tisina = 100\n",
    "hop_length_tisina = frame_length_tisina//2\n",
    "granica = 0.01"
   ]
  },
  {
   "attachments": {},
   "cell_type": "markdown",
   "metadata": {},
   "source": [
    "---\n",
    "## hurst "
   ]
  },
  {
   "cell_type": "code",
   "execution_count": 47,
   "metadata": {},
   "outputs": [],
   "source": [
    "\n",
    "for sample in baza:\n",
    "        h, c, val = compute_Hc(sample.data)\n",
    "        hurstovi.append(h)"
   ]
  },
  {
   "attachments": {},
   "cell_type": "markdown",
   "metadata": {},
   "source": [
    "### duzine"
   ]
  },
  {
   "cell_type": "code",
   "execution_count": 48,
   "metadata": {},
   "outputs": [],
   "source": [
    "\n",
    "\n",
    "for sample in baza:\n",
    "\n",
    "     duzina = len(sample.data) * 1/sample.samplerate\n",
    "        \n",
    "     duzine.append(duzina) "
   ]
  },
  {
   "cell_type": "code",
   "execution_count": null,
   "metadata": {},
   "outputs": [],
   "source": [
    "### odnos govor prema tisina, max govor \n",
    "\n",
    "duzinatisine = []\n",
    "\n",
    "#  frejmovano\n",
    "\n",
    "\n",
    "for sample in baza:\n",
    "      \n",
    "     duzina = len(sample.data) * 1/sample.samplerate\n",
    "     duzinatisinepriv = 0\n",
    "     ptisina = 0\n",
    "     trenprica = 0\n",
    "     maxprica = 0\n",
    "     for i in range (0, len(sample.data), hop_length_tisina):\n",
    "          engparceta = sum(abs(sample.data[i:i+frame_length_tisina]**2))\n",
    "          if engparceta < granica:\n",
    "               trenprica = 0\n",
    "               if ptisina == 0:\n",
    "                    duzinatisinepriv = duzinatisinepriv + frame_length_tisina * 1/sample.samplerate\n",
    "               else :\n",
    "                    duzinatisinepriv = duzinatisinepriv + hop_length_tisina * 1/sample.samplerate\n",
    "               ptisina = 1\n",
    "          else: \n",
    "               ptisina = 0\n",
    "               if trenprica == 0:\n",
    "                    trenprica = frame_length_tisia * 1/sample.samplerate\n",
    "               else :\n",
    "                    trenprica = trenprica + hop_length_tisina * 1/sample.samplerate\n",
    "               if trenprica > maxprica: maxprica = trenprica\n",
    "     duzinatisine.append(duzinatisinepriv)\n",
    "     najduzaprica.append(maxprica)\n",
    "\n",
    "for i in range (0, len(duzine)):\n",
    "     if duzinatisine[i] > 0:\n",
    "          odnostig.append((duzine[i]-duzinatisine[i])/duzinatisine[i])\n",
    "     else: odnostig.append(1)      "
   ]
  },
  {
   "attachments": {},
   "cell_type": "markdown",
   "metadata": {},
   "source": [
    "## MFCC\n",
    "---"
   ]
  },
  {
   "cell_type": "code",
   "execution_count": 55,
   "metadata": {},
   "outputs": [],
   "source": [
    "# data # citav audio fajl u nizu\n",
    "# parcici[0] # prvi segment tog audio fajla(mozda nije prvi zbog tisine zapravo) --- NE\n",
    "# prvi_seg # prvi segment koji nije tisina(trenutno su ostali pobrisani ovde)\n",
    "\n",
    "\n",
    "for sample in baza:\n",
    "    duzina = len(sample.data) * 1/sample.samplerate\n",
    "            \n",
    "    niz = librosa.feature.mfcc (y = sample.data, sr = sample.samplerate)\n",
    "    mfccovi.append(niz) \n",
    "          \n",
    "    "
   ]
  },
  {
   "attachments": {},
   "cell_type": "markdown",
   "metadata": {},
   "source": [
    "## ZCR\n",
    "---"
   ]
  },
  {
   "cell_type": "code",
   "execution_count": null,
   "metadata": {},
   "outputs": [],
   "source": [
    "## lokalni \n",
    "\n",
    "\n",
    "for sample in baza:\n",
    "        #pitch = librosa.feature.zero_crossing_rate(data, frame_length = frame_length, hop_length = hop_length)\n",
    "        zcr = librosa.feature.zero_crossing_rate(sample.data, frame_length = frame_length, hop_length = hop_length)\n",
    "        #print(pitch)\n",
    "        #print(zcr[0])         \n",
    "        #plt.plot(zcr)      #vraca matricu iz nekog razloga, ali je sav sadrzaj u zcr[0] tkd cu samo to da uzimam\n",
    "        zcrovi.append(zcr[0])"
   ]
  },
  {
   "cell_type": "code",
   "execution_count": null,
   "metadata": {},
   "outputs": [],
   "source": [
    "## globalni \n",
    "\n",
    "for zcr in zcrovi:\n",
    "    zcr_prosek.append(np.mean(zcr))\n",
    "    zcr_min.append(np.min(zcr))\n",
    "    zcr_max.append(np.max(zcr))\n",
    "    zcr_med.append(np.median(zcr))\n",
    "    zcr_stdev.append(np.std(zcr))\n",
    "    #print (prosek, min, max, med, stdev)\n",
    "    #break"
   ]
  },
  {
   "attachments": {},
   "cell_type": "markdown",
   "metadata": {},
   "source": [
    "## F0 --- pitch\n",
    "---"
   ]
  },
  {
   "cell_type": "code",
   "execution_count": 5,
   "metadata": {},
   "outputs": [],
   "source": [
    "#lokalni\n",
    "\n",
    "for sample in baza:\n",
    "\n",
    "    f0, voiced_flag, voiced_probs = librosa.pyin(sample.data,\n",
    "\n",
    "                                                fmin=librosa.note_to_hz('C2'),\n",
    "\n",
    "                                                fmax=librosa.note_to_hz('C7'), sr=sample.samplerate) #, frame_length=frame_len, hop_length=hop_len)\n",
    "    pitchovi.append(f0)"
   ]
  },
  {
   "cell_type": "code",
   "execution_count": 50,
   "metadata": {},
   "outputs": [],
   "source": [
    "## globalni \n",
    "\n",
    "pitch_prosek = []\n",
    "pitch_min = []\n",
    "pitch_max = []\n",
    "pitch_med = []\n",
    "pitch_stdev = []\n",
    "\n",
    "for pitch_nn in pitchovi:\n",
    "    pitch = pitch_nn[pitch_nn > -1]\n",
    "    pitch_prosek.append(np.mean(pitch))\n",
    "    pitch_min.append(np.min(pitch))\n",
    "    pitch_max.append(np.max(pitch))\n",
    "    pitch_med.append(np.median(pitch))\n",
    "    pitch_stdev.append(np.std(pitch))\n",
    "    #print (prosek, min, max, med, stdev)\n",
    "    #break"
   ]
  },
  {
   "attachments": {},
   "cell_type": "markdown",
   "metadata": {},
   "source": [
    "## energija\n",
    "---"
   ]
  },
  {
   "cell_type": "code",
   "execution_count": 17,
   "metadata": {},
   "outputs": [],
   "source": [
    "# energija\n",
    "\n",
    "energije_ukupne = []\n",
    "energije_short_term = []\n",
    "energije_short_term_silence = []\n",
    "\n",
    "\n",
    "# short term energija, frejmovano\n",
    "frame_length = frame_length_tisina # videcemo ali ovo ce ukloniti vise tisine tkd trebalo bi da utice \n",
    "hop_length = frame_length//2\n",
    "\n",
    "\n",
    "for sample in baza:\n",
    "\n",
    "    energy = sum(abs(sample.data**2))  ## ukupna energija fajla\n",
    "    energije_ukupne.append(energy)\n",
    "\n",
    "    energy_arr = np.array([\n",
    "        sum(abs( sample.data[i:i+frame_length]**2))\n",
    "        for i in range(0, len(sample.data), hop_length)])\n",
    "\n",
    "    energije_short_term_silence.append(energy_arr)\n",
    "    \n",
    "for energija_kratko in energije_short_term_silence:\n",
    "    energije_short_term.append(energija_kratko[energija_kratko > granica])"
   ]
  },
  {
   "cell_type": "code",
   "execution_count": 12,
   "metadata": {},
   "outputs": [
    {
     "data": {
      "text/plain": [
       "[<matplotlib.lines.Line2D at 0x7ff4d540fb20>]"
      ]
     },
     "execution_count": 12,
     "metadata": {},
     "output_type": "execute_result"
    },
    {
     "data": {
      "image/png": "[encoded data removed]",
      "text/plain": [
       "<Figure size 432x288 with 1 Axes>"
      ]
     },
     "metadata": {
      "needs_background": "light"
     },
     "output_type": "display_data"
    }
   ],
   "source": [
    "plt.plot(energije_short_term_silence[0])\n",
    "plt.plot(energije_short_term[0])\n"
   ]
  },
  {
   "attachments": {},
   "cell_type": "markdown",
   "metadata": {},
   "source": [
    "### ucitavanje ficera u fajlove "
   ]
  },
  {
   "cell_type": "code",
   "execution_count": 16,
   "metadata": {},
   "outputs": [],
   "source": [
    "for sample in baza:\n",
    "    name = sample.filename[:7]\n",
    "    f = open (\"ficeri/\" + name + \".txt\", \"w\")\n",
    "    f.close()"
   ]
  },
  {
   "cell_type": "code",
   "execution_count": null,
   "metadata": {},
   "outputs": [],
   "source": [
    "for sample in baza:\n",
    "    f = open (\"ficeri/\" + name + \".txt\", \"a\")\n",
    "    f \n",
    "    f.close()"
   ]
  }
 ],
 "metadata": {
  "kernelspec": {
   "display_name": "Python 3",
   "language": "python",
   "name": "python3"
  },
  "language_info": {
   "codemirror_mode": {
    "name": "ipython",
    "version": 3
   },
   "file_extension": ".py",
   "mimetype": "text/x-python",
   "name": "python",
   "nbconvert_exporter": "python",
   "pygments_lexer": "ipython3",
   "version": "3.9.2"
  },
  "orig_nbformat": 4,
  "vscode": {
   "interpreter": {
    "hash": "916dbcbb3f70747c44a77c7bcd40155683ae19c65e1c03b4aa3499c5328201f1"
   }
  }
 },
 "nbformat": 4,
 "nbformat_minor": 2
}
