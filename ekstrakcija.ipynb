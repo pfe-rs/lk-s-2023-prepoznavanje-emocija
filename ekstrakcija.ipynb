{
 "cells": [
  {
   "attachments": {},
   "cell_type": "markdown",
   "metadata": {},
   "source": [
    "## Ucitavanje baze"
   ]
  },
  {
   "cell_type": "code",
   "execution_count": 7,
   "metadata": {},
   "outputs": [],
   "source": [
    "from funkcije import *"
   ]
  },
  {
   "cell_type": "code",
   "execution_count": 8,
   "metadata": {},
   "outputs": [
    {
     "data": {
      "application/vnd.jupyter.widget-view+json": {
       "model_id": "2523f8694e8c4d1b829ae441f1d3082c",
       "version_major": 2,
       "version_minor": 0
      },
      "text/plain": [
       "FileChooser(path='/home/zarko/PFE/prepoznavanje-emocija/lk-s-2023-prepoznavanje-emocija/baza/emodb/wav', filen…"
      ]
     },
     "metadata": {},
     "output_type": "display_data"
    }
   ],
   "source": [
    "baza_location = biraj_bazu()"
   ]
  },
  {
   "cell_type": "code",
   "execution_count": 9,
   "metadata": {},
   "outputs": [
    {
     "name": "stdout",
     "output_type": "stream",
     "text": [
      "greska sa citanjem fajla:/home/zarko/PFE/prepoznavanje-emocija/lk-s-2023-prepoznavanje-emocija/baza/emodb/wav/newbaza\n"
     ]
    }
   ],
   "source": [
    "baza = ucitaj_bazu(baza_location)"
   ]
  },
  {
   "attachments": {},
   "cell_type": "markdown",
   "metadata": {},
   "source": [
    "---\n",
    "## hurst "
   ]
  },
  {
   "cell_type": "code",
   "execution_count": 6,
   "metadata": {},
   "outputs": [],
   "source": [
    "hurstovi = []\n",
    "\n",
    "\n",
    "for sample in baza:\n",
    "        h, c, val = compute_Hc(sample.data)\n",
    "        hurstovi.append(h)"
   ]
  },
  {
   "attachments": {},
   "cell_type": "markdown",
   "metadata": {},
   "source": [
    "### duzine"
   ]
  },
  {
   "cell_type": "code",
   "execution_count": 5,
   "metadata": {},
   "outputs": [],
   "source": [
    "\n",
    "duzine = [] \n",
    "\n",
    "for sample in baza:\n",
    "\n",
    "     duzina = len(sample.data) * 1/sample.samplerate\n",
    "        \n",
    "     duzine.append(duzina) "
   ]
  },
  {
   "cell_type": "code",
   "execution_count": null,
   "metadata": {},
   "outputs": [],
   "source": [
    "for sample in baza:\n",
    "     \n",
    "    duzina = len(data) * 1/samplerate\n",
    "    duzinatisinepriv = 0\n",
    "    ptisina = 0\n",
    "    trenprica = 0\n",
    "    maxprica = 0\n",
    "    for i in range (0, len(data), hop_length):\n",
    "        engparceta = sum(abs(data[i:i+frame_length]**2))\n",
    "        if engparceta < granica:\n",
    "            trenprica = 0\n",
    "            if ptisina == 0:\n",
    "                    duzinatisinepriv = duzinatisinepriv + frame_length * 1/samplerate\n",
    "                    else :\n",
    "                         duzinatisinepriv = duzinatisinepriv + hop_length * 1/samplerate\n",
    "                    ptisina = 1\n",
    "               else: \n",
    "                    ptisina = 0\n",
    "                    if trenprica == 0:\n",
    "                         trenprica = frame_length * 1/samplerate\n",
    "                    else :\n",
    "                         trenprica = trenprica + hop_length * 1/samplerate\n",
    "                    if trenprica > maxprica: maxprica = trenprica\n",
    "          duzinatisine.append(duzinatisinepriv)\n",
    "          najduzaprica.append(maxprica)\n",
    "\n",
    "for i in range (0, len(duzine)):\n",
    "     if duzinatisine[i] > 0:\n",
    "          odnostig.append((duzine[i]-duzinatisine[i])/duzinatisine[i])\n",
    "     else: odnostig.append(1)      "
   ]
  },
  {
   "attachments": {},
   "cell_type": "markdown",
   "metadata": {},
   "source": [
    "### mfcc"
   ]
  },
  {
   "cell_type": "code",
   "execution_count": null,
   "metadata": {},
   "outputs": [],
   "source": [
    "# data # citav audio fajl u nizu\n",
    "# parcici[0] # prvi segment tog audio fajla(mozda nije prvi zbog tisine zapravo) --- NE\n",
    "# prvi_seg # prvi segment koji nije tisina(trenutno su ostali pobrisani ovde)\n",
    "\n",
    "mfccovi = []\n",
    "\n",
    "for sample in baza:\n",
    "    duzina = len(sample.data) * 1/sample.samplerate\n",
    "            \n",
    "    niz = librosa.feature.mfcc (y = data, sr = sample.samplerate)\n",
    "    mfccovi.append(niz) \n",
    "          \n",
    "    "
   ]
  },
  {
   "attachments": {},
   "cell_type": "markdown",
   "metadata": {},
   "source": [
    "### ZCR"
   ]
  },
  {
   "cell_type": "code",
   "execution_count": 11,
   "metadata": {},
   "outputs": [],
   "source": [
    "## lokalni \n",
    "zcrovi = []\n",
    "frame_length = 480\n",
    "hop_length = frame_length//2\n",
    "\n",
    "\n",
    "for sample in baza:\n",
    "        #zcr = librosa.feature.zero_crossing_rate(data, frame_length = frame_length, hop_length = hop_length)\n",
    "        zcr = librosa.feature.zero_crossing_rate(sample.data, frame_length = frame_length, hop_length = hop_length)\n",
    "        #print(zcr)\n",
    "        #print(zcr[0])         \n",
    "        #plt.plot(zcr)      #vraca matricu iz nekog razloga, ali je sav sadrzaj u zcr[0] tkd cu samo to da uzimam\n",
    "        zcrovi.append(zcr[0])"
   ]
  },
  {
   "cell_type": "code",
   "execution_count": 12,
   "metadata": {},
   "outputs": [],
   "source": [
    "## globalni \n",
    "\n",
    "zcr_prosek = []\n",
    "zcr_min = []\n",
    "zcr_max = []\n",
    "zcr_med = []\n",
    "zcr_stdev = []\n",
    "\n",
    "for zcr in zcrovi:\n",
    "    zcr_prosek.append(np.mean(zcr))\n",
    "    zcr_min.append(np.min(zcr))\n",
    "    zcr_max.append(np.max(zcr))\n",
    "    zcr_med.append(np.median(zcr))\n",
    "    zcr_stdev.append(np.std(zcr))\n",
    "    #print (prosek, min, max, med, stdev)\n",
    "    #break"
   ]
  },
  {
   "attachments": {},
   "cell_type": "markdown",
   "metadata": {},
   "source": [
    "## F0 --- pitch\n",
    "---"
   ]
  },
  {
   "cell_type": "code",
   "execution_count": 5,
   "metadata": {},
   "outputs": [],
   "source": [
    "pitchovi = []\n",
    "\n",
    "for sample in baza:\n",
    "\n",
    "    f0, voiced_flag, voiced_probs = librosa.pyin(sample.data,\n",
    "\n",
    "                                                fmin=librosa.note_to_hz('C2'),\n",
    "\n",
    "                                                fmax=librosa.note_to_hz('C7'), sr=sample.samplerate) #, frame_length=frame_len, hop_length=hop_len)\n",
    "    pitchovi.append(f0)"
   ]
  },
  {
   "cell_type": "code",
   "execution_count": null,
   "metadata": {},
   "outputs": [],
   "source": [
    "## "
   ]
  },
  {
   "cell_type": "code",
   "execution_count": null,
   "metadata": {},
   "outputs": [],
   "source": []
  }
 ],
 "metadata": {
  "kernelspec": {
   "display_name": "Python 3",
   "language": "python",
   "name": "python3"
  },
  "language_info": {
   "codemirror_mode": {
    "name": "ipython",
    "version": 3
   },
   "file_extension": ".py",
   "mimetype": "text/x-python",
   "name": "python",
   "nbconvert_exporter": "python",
   "pygments_lexer": "ipython3",
   "version": "3.9.2"
  },
  "orig_nbformat": 4,
  "vscode": {
   "interpreter": {
    "hash": "916dbcbb3f70747c44a77c7bcd40155683ae19c65e1c03b4aa3499c5328201f1"
   }
  }
 },
 "nbformat": 4,
 "nbformat_minor": 2
}
