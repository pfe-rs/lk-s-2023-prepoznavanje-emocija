{
 "cells": [
  {
   "cell_type": "code",
   "execution_count": null,
   "metadata": {},
   "outputs": [],
   "source": [
    "from funkcije import *\n",
    "from sklearn import svm"
   ]
  },
  {
   "cell_type": "code",
   "execution_count": null,
   "metadata": {},
   "outputs": [],
   "source": [
    "nemci = pd.read_csv(\"baza_labelirana.csv\")"
   ]
  },
  {
   "cell_type": "code",
   "execution_count": null,
   "metadata": {},
   "outputs": [],
   "source": [
    "print(nemci.columns.values)"
   ]
  },
  {
   "cell_type": "code",
   "execution_count": 22,
   "metadata": {},
   "outputs": [],
   "source": [
    "X = nemci[['hurstovi', 'duzine', 'odnos_tišine_i_govora',\n",
    " 'najduža_priča', 'zcr_prosek', 'zcr_min', 'zcr_max', 'zcr_med', 'zcr_stdev',\n",
    " 'pitch_prosek', 'pitch_min', 'pitch_max', 'pitch_med', 'pitch_stdev',\n",
    " 'energija_prosek', 'energija_min', 'energija_max', 'energija_stdev',\n",
    " 'eng_bez_tis', 'eng_bez_tis_avg', 'eng_bez_tis_min', 'eng_bez_tis_max',\n",
    " 'eng_bez_tis_med', 'eng_bez_tis_stdev', 'energija_ukupna', 'mfcc_mean_1',\n",
    " 'mfcc_min_1', 'mfcc_max_1', 'mfcc_med_1', 'mfcc_var_1', 'mfcc_mean_2',\n",
    " 'mfcc_min_2', 'mfcc_max_2', 'mfcc_med_2', 'mfcc_var_2', 'mfcc_mean_3',\n",
    " 'mfcc_min_3', 'mfcc_max_3', 'mfcc_med_3', 'mfcc_var_3', 'mfcc_mean_4',\n",
    " 'mfcc_min_4', 'mfcc_max_4', 'mfcc_med_4', 'mfcc_var_4', 'mfcc_mean_5',\n",
    " 'mfcc_min_5', 'mfcc_max_5', 'mfcc_med_5', 'mfcc_var_5', 'mfcc_mean_6',\n",
    " 'mfcc_min_6', 'mfcc_max_6', 'mfcc_med_6', 'mfcc_var_6', 'mfcc_mean_7',\n",
    " 'mfcc_min_7', 'mfcc_max_7', 'mfcc_med_7', 'mfcc_var_7', 'mfcc_mean_8',\n",
    " 'mfcc_min_8', 'mfcc_max_8', 'mfcc_med_8', 'mfcc_var_8', 'mfcc_mean_9',\n",
    " 'mfcc_min_9', 'mfcc_max_9', 'mfcc_med_9', 'mfcc_var_9', 'mfcc_mean_10',\n",
    " 'mfcc_min_10', 'mfcc_max_10', 'mfcc_med_10', 'mfcc_var_10', 'mfcc_mean_11',\n",
    " 'mfcc_min_11', 'mfcc_max_11', 'mfcc_med_11', 'mfcc_var_11', 'mfcc_mean_12',\n",
    " 'mfcc_min_12', 'mfcc_max_12', 'mfcc_med_12', 'mfcc_var_12', 'mfcc_mean_13',\n",
    " 'mfcc_min_13', 'mfcc_max_13', 'mfcc_med_13', 'mfcc_var_13', 'mfcc_mean_14',\n",
    " 'mfcc_min_14', 'mfcc_max_14', 'mfcc_med_14', 'mfcc_var_14', 'mfcc_mean_15',\n",
    " 'mfcc_min_15', 'mfcc_max_15', 'mfcc_med_15', 'mfcc_var_15', 'mfcc_mean_16',\n",
    " 'mfcc_min_16', 'mfcc_max_16', 'mfcc_med_16', 'mfcc_var_16', 'mfcc_mean_17',\n",
    " 'mfcc_min_17', 'mfcc_max_17', 'mfcc_med_17', 'mfcc_var_17', 'mfcc_mean_18',\n",
    " 'mfcc_min_18', 'mfcc_max_18', 'mfcc_med_18', 'mfcc_var_18', 'mfcc_mean_19',\n",
    " 'mfcc_min_19', 'mfcc_max_19', 'mfcc_med_19', 'mfcc_var_19', 'mfcc_mean_20',\n",
    " 'mfcc_min_20', 'mfcc_max_20', 'mfcc_med_20', 'mfcc_var_20']]\n",
    "\n",
    "y = nemci[[\"bes\", \"dosada\",\n",
    "\"gadjenje\",\n",
    "\"strah\",\n",
    "\"sreca\",   \n",
    "\"tuga\",   \n",
    "\"neutralno\"]]"
   ]
  },
  {
   "cell_type": "code",
   "execution_count": null,
   "metadata": {},
   "outputs": [],
   "source": [
    "X_train, X_test, y_train, y_test = train_test_split(X, y, test_size=0.2,random_state=12345)"
   ]
  },
  {
   "cell_type": "code",
   "execution_count": 53,
   "metadata": {},
   "outputs": [
    {
     "name": "stderr",
     "output_type": "stream",
     "text": [
      "2023/07/27 14:44:11 INFO mlflow.utils.autologging_utils: Created MLflow autologging run with ID '453f2df445da48f196964f6478606985', which will track hyperparameters, performance metrics, model artifacts, and lineage information for the current sklearn workflow\n"
     ]
    },
    {
     "name": "stderr",
     "output_type": "stream",
     "text": [
      "/home/zarko/.local/lib/python3.9/site-packages/sklearn/metrics/_classification.py:1327: UndefinedMetricWarning: Precision is ill-defined and being set to 0.0 in labels with no predicted samples. Use `zero_division` parameter to control this behavior.\n",
      "  _warn_prf(average, modifier, msg_start, len(result))\n",
      "2023/07/27 14:44:11 WARNING mlflow.utils.autologging_utils: Encountered unexpected error during sklearn autologging: The configured tracking uri scheme: 'file' is invalid for use with the proxy mlflow-artifact scheme. The allowed tracking schemes are: {'https', 'http'}\n"
     ]
    }
   ],
   "source": [
    "cls = svm.SVC(kernel=\"linear\")\n",
    "cls.fit(X_train,y_train[\"sve\"])\n",
    "train_preds = cls.predict(X_train)\n",
    "test_preds = cls.predict(X_test)\n"
   ]
  },
  {
   "cell_type": "code",
   "execution_count": 48,
   "metadata": {},
   "outputs": [
    {
     "data": {
      "text/html": [
       "<div>\n",
       "<style scoped>\n",
       "    .dataframe tbody tr th:only-of-type {\n",
       "        vertical-align: middle;\n",
       "    }\n",
       "\n",
       "    .dataframe tbody tr th {\n",
       "        vertical-align: top;\n",
       "    }\n",
       "\n",
       "    .dataframe thead th {\n",
       "        text-align: right;\n",
       "    }\n",
       "</style>\n",
       "<table border=\"1\" class=\"dataframe\">\n",
       "  <thead>\n",
       "    <tr style=\"text-align: right;\">\n",
       "      <th></th>\n",
       "      <th>bes</th>\n",
       "      <th>dosada</th>\n",
       "      <th>gadjenje</th>\n",
       "      <th>strah</th>\n",
       "      <th>sreca</th>\n",
       "      <th>tuga</th>\n",
       "      <th>neutralno</th>\n",
       "      <th>sve</th>\n",
       "    </tr>\n",
       "  </thead>\n",
       "  <tbody>\n",
       "    <tr>\n",
       "      <th>403</th>\n",
       "      <td>0.0</td>\n",
       "      <td>0.0</td>\n",
       "      <td>1.0</td>\n",
       "      <td>0.0</td>\n",
       "      <td>0.0</td>\n",
       "      <td>0.0</td>\n",
       "      <td>0.0</td>\n",
       "      <td>2</td>\n",
       "    </tr>\n",
       "    <tr>\n",
       "      <th>17</th>\n",
       "      <td>0.0</td>\n",
       "      <td>0.0</td>\n",
       "      <td>0.0</td>\n",
       "      <td>0.0</td>\n",
       "      <td>0.0</td>\n",
       "      <td>1.0</td>\n",
       "      <td>0.0</td>\n",
       "      <td>5</td>\n",
       "    </tr>\n",
       "    <tr>\n",
       "      <th>461</th>\n",
       "      <td>0.0</td>\n",
       "      <td>0.0</td>\n",
       "      <td>0.0</td>\n",
       "      <td>0.0</td>\n",
       "      <td>0.0</td>\n",
       "      <td>0.0</td>\n",
       "      <td>1.0</td>\n",
       "      <td>6</td>\n",
       "    </tr>\n",
       "    <tr>\n",
       "      <th>486</th>\n",
       "      <td>0.0</td>\n",
       "      <td>0.0</td>\n",
       "      <td>1.0</td>\n",
       "      <td>0.0</td>\n",
       "      <td>0.0</td>\n",
       "      <td>0.0</td>\n",
       "      <td>0.0</td>\n",
       "      <td>2</td>\n",
       "    </tr>\n",
       "    <tr>\n",
       "      <th>164</th>\n",
       "      <td>0.0</td>\n",
       "      <td>0.0</td>\n",
       "      <td>0.0</td>\n",
       "      <td>0.0</td>\n",
       "      <td>0.0</td>\n",
       "      <td>1.0</td>\n",
       "      <td>0.0</td>\n",
       "      <td>5</td>\n",
       "    </tr>\n",
       "    <tr>\n",
       "      <th>...</th>\n",
       "      <td>...</td>\n",
       "      <td>...</td>\n",
       "      <td>...</td>\n",
       "      <td>...</td>\n",
       "      <td>...</td>\n",
       "      <td>...</td>\n",
       "      <td>...</td>\n",
       "      <td>...</td>\n",
       "    </tr>\n",
       "    <tr>\n",
       "      <th>420</th>\n",
       "      <td>0.0</td>\n",
       "      <td>0.0</td>\n",
       "      <td>0.0</td>\n",
       "      <td>1.0</td>\n",
       "      <td>0.0</td>\n",
       "      <td>0.0</td>\n",
       "      <td>0.0</td>\n",
       "      <td>3</td>\n",
       "    </tr>\n",
       "    <tr>\n",
       "      <th>129</th>\n",
       "      <td>1.0</td>\n",
       "      <td>0.0</td>\n",
       "      <td>0.0</td>\n",
       "      <td>0.0</td>\n",
       "      <td>0.0</td>\n",
       "      <td>0.0</td>\n",
       "      <td>0.0</td>\n",
       "      <td>0</td>\n",
       "    </tr>\n",
       "    <tr>\n",
       "      <th>285</th>\n",
       "      <td>0.0</td>\n",
       "      <td>0.0</td>\n",
       "      <td>0.0</td>\n",
       "      <td>1.0</td>\n",
       "      <td>0.0</td>\n",
       "      <td>0.0</td>\n",
       "      <td>0.0</td>\n",
       "      <td>3</td>\n",
       "    </tr>\n",
       "    <tr>\n",
       "      <th>485</th>\n",
       "      <td>0.0</td>\n",
       "      <td>0.0</td>\n",
       "      <td>0.0</td>\n",
       "      <td>1.0</td>\n",
       "      <td>0.0</td>\n",
       "      <td>0.0</td>\n",
       "      <td>0.0</td>\n",
       "      <td>3</td>\n",
       "    </tr>\n",
       "    <tr>\n",
       "      <th>482</th>\n",
       "      <td>0.0</td>\n",
       "      <td>0.0</td>\n",
       "      <td>0.0</td>\n",
       "      <td>0.0</td>\n",
       "      <td>0.0</td>\n",
       "      <td>1.0</td>\n",
       "      <td>0.0</td>\n",
       "      <td>5</td>\n",
       "    </tr>\n",
       "  </tbody>\n",
       "</table>\n",
       "<p>428 rows × 8 columns</p>\n",
       "</div>"
      ],
      "text/plain": [
       "     bes  dosada  gadjenje  strah  sreca  tuga  neutralno  sve\n",
       "403  0.0     0.0       1.0    0.0    0.0   0.0        0.0    2\n",
       "17   0.0     0.0       0.0    0.0    0.0   1.0        0.0    5\n",
       "461  0.0     0.0       0.0    0.0    0.0   0.0        1.0    6\n",
       "486  0.0     0.0       1.0    0.0    0.0   0.0        0.0    2\n",
       "164  0.0     0.0       0.0    0.0    0.0   1.0        0.0    5\n",
       "..   ...     ...       ...    ...    ...   ...        ...  ...\n",
       "420  0.0     0.0       0.0    1.0    0.0   0.0        0.0    3\n",
       "129  1.0     0.0       0.0    0.0    0.0   0.0        0.0    0\n",
       "285  0.0     0.0       0.0    1.0    0.0   0.0        0.0    3\n",
       "485  0.0     0.0       0.0    1.0    0.0   0.0        0.0    3\n",
       "482  0.0     0.0       0.0    0.0    0.0   1.0        0.0    5\n",
       "\n",
       "[428 rows x 8 columns]"
      ]
     },
     "execution_count": 48,
     "metadata": {},
     "output_type": "execute_result"
    }
   ],
   "source": [
    "\n",
    "y_train\n"
   ]
  },
  {
   "cell_type": "code",
   "execution_count": 49,
   "metadata": {},
   "outputs": [],
   "source": [
    "y_test[\"sve\"] = (y_test[\"bes\"] == 1.0) * 0\n",
    "y_test[\"sve\"] = (y_test[\"dosada\"] == 1.0) * 1 + y_test[\"sve\"]\n",
    "y_test[\"sve\"] = (y_test[\"gadjenje\"] == 1.0) * 2 + y_test[\"sve\"]\n",
    "y_test[\"sve\"] = (y_test[\"strah\"] == 1.0) * 3 + y_test[\"sve\"]\n",
    "y_test[\"sve\"] = (y_test[\"sreca\"] == 1.0) * 4 + y_test[\"sve\"]\n",
    "y_test[\"sve\"] = (y_test[\"tuga\"] == 1.0) * 5 + y_test[\"sve\"]\n",
    "y_test[\"sve\"] = (y_test[\"neutralno\"] == 1.0) * 6 + y_test[\"sve\"]\n",
    "\n",
    "\n",
    "y_train[\"sve\"] = (y_train[\"bes\"] == 1.0) * 0\n",
    "y_train[\"sve\"] = (y_train[\"dosada\"] == 1.0) * 1 + y_train[\"sve\"]\n",
    "y_train[\"sve\"] = (y_train[\"gadjenje\"] == 1.0) * 2 + y_train[\"sve\"]\n",
    "y_train[\"sve\"] = (y_train[\"strah\"] == 1.0) * 3 + y_train[\"sve\"]\n",
    "y_train[\"sve\"] = (y_train[\"sreca\"] == 1.0) * 4 + y_train[\"sve\"]\n",
    "y_train[\"sve\"] = (y_train[\"tuga\"] == 1.0) * 5 + y_train[\"sve\"]\n",
    "y_train[\"sve\"] = (y_train[\"neutralno\"] == 1.0) * 6 + y_train[\"sve\"]"
   ]
  },
  {
   "cell_type": "code",
   "execution_count": 50,
   "metadata": {},
   "outputs": [
    {
     "data": {
      "text/plain": [
       "403    2\n",
       "17     5\n",
       "461    6\n",
       "486    2\n",
       "164    5\n",
       "      ..\n",
       "420    3\n",
       "129    0\n",
       "285    3\n",
       "485    3\n",
       "482    5\n",
       "Name: sve, Length: 428, dtype: int64"
      ]
     },
     "execution_count": 50,
     "metadata": {},
     "output_type": "execute_result"
    }
   ],
   "source": [
    "\n",
    "y_train[\"sve\"]"
   ]
  },
  {
   "cell_type": "code",
   "execution_count": 55,
   "metadata": {},
   "outputs": [
    {
     "data": {
      "text/plain": [
       "array([0, 0, 0, 0, 0, 0, 0, 0, 0, 0, 0, 0, 0, 0, 0, 0, 0, 0, 0, 1, 0, 0,\n",
       "       0, 0, 0, 0, 0, 0, 0, 0, 0, 0, 0, 0, 0, 0, 0, 0, 0, 0, 0, 0, 0, 0,\n",
       "       0, 0, 0, 0, 0, 0, 0, 0, 0, 0, 0, 0, 0, 0, 0, 0, 0, 0, 0, 0, 0, 0,\n",
       "       0, 0, 0, 0, 0, 0, 0, 0, 0, 0, 0, 0, 0, 0, 0, 0, 0, 0, 0, 0, 0, 0,\n",
       "       0, 0, 0, 0, 0, 0, 0, 0, 0, 0, 0, 0, 0, 0, 0, 0, 0, 0, 0])"
      ]
     },
     "execution_count": 55,
     "metadata": {},
     "output_type": "execute_result"
    }
   ],
   "source": []
  },
  {
   "cell_type": "code",
   "execution_count": 54,
   "metadata": {},
   "outputs": [
    {
     "ename": "IndexError",
     "evalue": "too many indices for array: array is 1-dimensional, but 2 were indexed",
     "output_type": "error",
     "traceback": [
      "\u001b[0;31m---------------------------------------------------------------------------\u001b[0m",
      "\u001b[0;31mIndexError\u001b[0m                                Traceback (most recent call last)",
      "\u001b[1;32m/home/zarko/pfe/prepoznavanje-emocija/lk-s-2023-prepoznavanje-emocija/svm.ipynb Cell 10\u001b[0m in \u001b[0;36m<cell line: 4>\u001b[0;34m()\u001b[0m\n\u001b[1;32m      <a href='vscode-notebook-cell:/home/zarko/pfe/prepoznavanje-emocija/lk-s-2023-prepoznavanje-emocija/svm.ipynb#X22sZmlsZQ%3D%3D?line=2'>3</a>\u001b[0m train_p \u001b[39m=\u001b[39m train_preds\u001b[39m.\u001b[39mcopy()\n\u001b[1;32m      <a href='vscode-notebook-cell:/home/zarko/pfe/prepoznavanje-emocija/lk-s-2023-prepoznavanje-emocija/svm.ipynb#X22sZmlsZQ%3D%3D?line=3'>4</a>\u001b[0m \u001b[39mfor\u001b[39;00m i \u001b[39min\u001b[39;00m \u001b[39mrange\u001b[39m(\u001b[39mlen\u001b[39m(test_p)):\n\u001b[1;32m      <a href='vscode-notebook-cell:/home/zarko/pfe/prepoznavanje-emocija/lk-s-2023-prepoznavanje-emocija/svm.ipynb#X22sZmlsZQ%3D%3D?line=4'>5</a>\u001b[0m     \u001b[39m# print(test_preds[i])\u001b[39;00m\n\u001b[1;32m      <a href='vscode-notebook-cell:/home/zarko/pfe/prepoznavanje-emocija/lk-s-2023-prepoznavanje-emocija/svm.ipynb#X22sZmlsZQ%3D%3D?line=5'>6</a>\u001b[0m     \u001b[39m# print(max(test_preds[i]))\u001b[39;00m\n\u001b[1;32m      <a href='vscode-notebook-cell:/home/zarko/pfe/prepoznavanje-emocija/lk-s-2023-prepoznavanje-emocija/svm.ipynb#X22sZmlsZQ%3D%3D?line=6'>7</a>\u001b[0m     \u001b[39m# print(test_preds[i].argmax())\u001b[39;00m\n\u001b[0;32m----> <a href='vscode-notebook-cell:/home/zarko/pfe/prepoznavanje-emocija/lk-s-2023-prepoznavanje-emocija/svm.ipynb#X22sZmlsZQ%3D%3D?line=7'>8</a>\u001b[0m     test_p[i,test_p[i]\u001b[39m.\u001b[39margmax()] \u001b[39m=\u001b[39m \u001b[39m1.0\u001b[39m\n\u001b[1;32m      <a href='vscode-notebook-cell:/home/zarko/pfe/prepoznavanje-emocija/lk-s-2023-prepoznavanje-emocija/svm.ipynb#X22sZmlsZQ%3D%3D?line=8'>9</a>\u001b[0m     test_p[i] \u001b[39m=\u001b[39m test_p[i] \u001b[39m==\u001b[39m \u001b[39m1.0\u001b[39m\n\u001b[1;32m     <a href='vscode-notebook-cell:/home/zarko/pfe/prepoznavanje-emocija/lk-s-2023-prepoznavanje-emocija/svm.ipynb#X22sZmlsZQ%3D%3D?line=9'>10</a>\u001b[0m \u001b[39m# np.amax(test_preds,axis=1)\u001b[39;00m\n",
      "\u001b[0;31mIndexError\u001b[0m: too many indices for array: array is 1-dimensional, but 2 were indexed"
     ]
    }
   ],
   "source": [
    "## bez ovoga mozemo se upucamo u nogu samo\n",
    "test_p = test_preds.copy()\n",
    "train_p = train_preds.copy()\n",
    "for i in range(len(test_p)):\n",
    "    # print(test_preds[i])\n",
    "    # print(max(test_preds[i]))\n",
    "    # print(test_preds[i].argmax())\n",
    "    test_p[i,test_p[i].argmax()] = 1.0\n",
    "    test_p[i] = test_p[i] == 1.0\n",
    "# np.amax(test_preds,axis=1)\n",
    "\n",
    "for i in range(len(train_p)):\n",
    "    # print(train_preds[i])\n",
    "    # print(max(test_preds[i]))\n",
    "    # print(train_preds[i].argmax())\n",
    "    train_p[i, train_p[i].argmax()] = 1.0\n",
    "    train_p[i] = train_p[i] == 1.0"
   ]
  },
  {
   "cell_type": "code",
   "execution_count": 58,
   "metadata": {},
   "outputs": [
    {
     "name": "stdout",
     "output_type": "stream",
     "text": [
      "0.205607476635514\n"
     ]
    }
   ],
   "source": [
    "test_acc = accuracy_score(y_test[\"sve\"], test_preds)\n",
    "print(test_acc)"
   ]
  },
  {
   "cell_type": "code",
   "execution_count": 59,
   "metadata": {},
   "outputs": [
    {
     "name": "stdout",
     "output_type": "stream",
     "text": [
      "0.25934579439252337\n"
     ]
    }
   ],
   "source": [
    "train_acc = accuracy_score(y_train[\"sve\"], train_preds)\n",
    "print(train_acc)"
   ]
  },
  {
   "cell_type": "code",
   "execution_count": 60,
   "metadata": {},
   "outputs": [
    {
     "ename": "NameError",
     "evalue": "name 'sfs' is not defined",
     "output_type": "error",
     "traceback": [
      "\u001b[0;31m---------------------------------------------------------------------------\u001b[0m",
      "\u001b[0;31mNameError\u001b[0m                                 Traceback (most recent call last)",
      "\u001b[1;32m/home/zarko/pfe/prepoznavanje-emocija/lk-s-2023-prepoznavanje-emocija/svm.ipynb Cell 14\u001b[0m in \u001b[0;36m<cell line: 1>\u001b[0;34m()\u001b[0m\n\u001b[0;32m----> <a href='vscode-notebook-cell:/home/zarko/pfe/prepoznavanje-emocija/lk-s-2023-prepoznavanje-emocija/svm.ipynb#X26sZmlsZQ%3D%3D?line=0'>1</a>\u001b[0m backward_fs_best\u001b[39m=\u001b[39msfs(estimator \u001b[39m=\u001b[39m svc, k_features \u001b[39m=\u001b[39m \u001b[39m'\u001b[39m\u001b[39mbest\u001b[39m\u001b[39m'\u001b[39m, forward \u001b[39m=\u001b[39m \u001b[39mFalse\u001b[39;00m,verbose \u001b[39m=\u001b[39m\u001b[39m1\u001b[39m, scoring \u001b[39m=\u001b[39m \u001b[39m'\u001b[39m\u001b[39mr2\u001b[39m\u001b[39m'\u001b[39m)\n\u001b[1;32m      <a href='vscode-notebook-cell:/home/zarko/pfe/prepoznavanje-emocija/lk-s-2023-prepoznavanje-emocija/svm.ipynb#X26sZmlsZQ%3D%3D?line=1'>2</a>\u001b[0m sfs_backward_best\u001b[39m=\u001b[39mbackward_fs_best\u001b[39m.\u001b[39mfit(X_train,y_train)\n",
      "\u001b[0;31mNameError\u001b[0m: name 'sfs' is not defined"
     ]
    }
   ],
   "source": [
    "backward_fs_best=sfs(estimator = svc, k_features = 'best', forward = False,verbose =1, scoring = 'r2')\n",
    "sfs_backward_best=backward_fs_best.fit(X_train,y_train)"
   ]
  },
  {
   "cell_type": "code",
   "execution_count": null,
   "metadata": {},
   "outputs": [],
   "source": []
  }
 ],
 "metadata": {
  "kernelspec": {
   "display_name": "Python 3",
   "language": "python",
   "name": "python3"
  },
  "language_info": {
   "codemirror_mode": {
    "name": "ipython",
    "version": 3
   },
   "file_extension": ".py",
   "mimetype": "text/x-python",
   "name": "python",
   "nbconvert_exporter": "python",
   "pygments_lexer": "ipython3",
   "version": "3.9.2"
  },
  "orig_nbformat": 4
 },
 "nbformat": 4,
 "nbformat_minor": 2
}
