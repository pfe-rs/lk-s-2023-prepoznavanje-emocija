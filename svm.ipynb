{
 "cells": [
  {
   "cell_type": "code",
   "execution_count": 1,
   "metadata": {},
   "outputs": [
    {
     "name": "stderr",
     "output_type": "stream",
     "text": [
      "2023/07/27 15:46:51 INFO mlflow.tracking.fluent: Autologging successfully enabled for sklearn.\n",
      "2023/07/27 15:46:51 INFO mlflow.tracking.fluent: Autologging successfully enabled for statsmodels.\n"
     ]
    }
   ],
   "source": [
    "from funkcije import *\n",
    "from sklearn import svm"
   ]
  },
  {
   "cell_type": "code",
   "execution_count": 2,
   "metadata": {},
   "outputs": [],
   "source": [
    "nemci = pd.read_csv(\"baza_labelirana.csv\")"
   ]
  },
  {
   "cell_type": "code",
   "execution_count": 3,
   "metadata": {},
   "outputs": [
    {
     "name": "stdout",
     "output_type": "stream",
     "text": [
      "['filename' 'kod_govornika' 'kod_recenice' 'kod_emocije' 'naziv_emocije'\n",
      " 'pol' 'godiste' 'hurstovi' 'duzine' 'odnos_tišine_i_govora'\n",
      " 'najduža_priča' 'zcr_prosek' 'zcr_min' 'zcr_max' 'zcr_med' 'zcr_stdev'\n",
      " 'pitch_prosek' 'pitch_min' 'pitch_max' 'pitch_med' 'pitch_stdev'\n",
      " 'energija_prosek' 'energija_min' 'energija_max' 'energija_stdev'\n",
      " 'eng_bez_tis' 'eng_bez_tis_avg' 'eng_bez_tis_min' 'eng_bez_tis_max'\n",
      " 'eng_bez_tis_med' 'eng_bez_tis_stdev' 'energija_ukupna' 'mfcc_mean_1'\n",
      " 'mfcc_min_1' 'mfcc_max_1' 'mfcc_med_1' 'mfcc_var_1' 'mfcc_mean_2'\n",
      " 'mfcc_min_2' 'mfcc_max_2' 'mfcc_med_2' 'mfcc_var_2' 'mfcc_mean_3'\n",
      " 'mfcc_min_3' 'mfcc_max_3' 'mfcc_med_3' 'mfcc_var_3' 'mfcc_mean_4'\n",
      " 'mfcc_min_4' 'mfcc_max_4' 'mfcc_med_4' 'mfcc_var_4' 'mfcc_mean_5'\n",
      " 'mfcc_min_5' 'mfcc_max_5' 'mfcc_med_5' 'mfcc_var_5' 'mfcc_mean_6'\n",
      " 'mfcc_min_6' 'mfcc_max_6' 'mfcc_med_6' 'mfcc_var_6' 'mfcc_mean_7'\n",
      " 'mfcc_min_7' 'mfcc_max_7' 'mfcc_med_7' 'mfcc_var_7' 'mfcc_mean_8'\n",
      " 'mfcc_min_8' 'mfcc_max_8' 'mfcc_med_8' 'mfcc_var_8' 'mfcc_mean_9'\n",
      " 'mfcc_min_9' 'mfcc_max_9' 'mfcc_med_9' 'mfcc_var_9' 'mfcc_mean_10'\n",
      " 'mfcc_min_10' 'mfcc_max_10' 'mfcc_med_10' 'mfcc_var_10' 'mfcc_mean_11'\n",
      " 'mfcc_min_11' 'mfcc_max_11' 'mfcc_med_11' 'mfcc_var_11' 'mfcc_mean_12'\n",
      " 'mfcc_min_12' 'mfcc_max_12' 'mfcc_med_12' 'mfcc_var_12' 'mfcc_mean_13'\n",
      " 'mfcc_min_13' 'mfcc_max_13' 'mfcc_med_13' 'mfcc_var_13' 'mfcc_mean_14'\n",
      " 'mfcc_min_14' 'mfcc_max_14' 'mfcc_med_14' 'mfcc_var_14' 'mfcc_mean_15'\n",
      " 'mfcc_min_15' 'mfcc_max_15' 'mfcc_med_15' 'mfcc_var_15' 'mfcc_mean_16'\n",
      " 'mfcc_min_16' 'mfcc_max_16' 'mfcc_med_16' 'mfcc_var_16' 'mfcc_mean_17'\n",
      " 'mfcc_min_17' 'mfcc_max_17' 'mfcc_med_17' 'mfcc_var_17' 'mfcc_mean_18'\n",
      " 'mfcc_min_18' 'mfcc_max_18' 'mfcc_med_18' 'mfcc_var_18' 'mfcc_mean_19'\n",
      " 'mfcc_min_19' 'mfcc_max_19' 'mfcc_med_19' 'mfcc_var_19' 'mfcc_mean_20'\n",
      " 'mfcc_min_20' 'mfcc_max_20' 'mfcc_med_20' 'mfcc_var_20' 'bes' 'dosada'\n",
      " 'gadjenje' 'strah' 'sreca' 'tuga' 'neutralno']\n"
     ]
    }
   ],
   "source": [
    "print(nemci.columns.values)"
   ]
  },
  {
   "cell_type": "code",
   "execution_count": 26,
   "metadata": {},
   "outputs": [],
   "source": [
    "X = nemci[['hurstovi', 'duzine', 'odnos_tišine_i_govora',\n",
    " 'najduža_priča', 'zcr_prosek', 'zcr_min', 'zcr_max', 'zcr_med', 'zcr_stdev',\n",
    " 'pitch_prosek', 'pitch_min', 'pitch_max', 'pitch_med', 'pitch_stdev',\n",
    " 'energija_prosek', 'energija_min', 'energija_max', 'energija_stdev',\n",
    " 'eng_bez_tis', 'eng_bez_tis_avg', 'eng_bez_tis_min', 'eng_bez_tis_max',\n",
    " 'eng_bez_tis_med', 'eng_bez_tis_stdev']]#, 'energija_ukupna']]#, 'mfcc_mean_1',\n",
    "#  'mfcc_min_1', 'mfcc_max_1', 'mfcc_med_1', 'mfcc_var_1', 'mfcc_mean_2',\n",
    "#  'mfcc_min_2', 'mfcc_max_2', 'mfcc_med_2', 'mfcc_var_2', 'mfcc_mean_3',\n",
    "#  'mfcc_min_3', 'mfcc_max_3', 'mfcc_med_3', 'mfcc_var_3', 'mfcc_mean_4',\n",
    "#  'mfcc_min_4', 'mfcc_max_4', 'mfcc_med_4', 'mfcc_var_4', 'mfcc_mean_5',\n",
    "#  'mfcc_min_5', 'mfcc_max_5', 'mfcc_med_5', 'mfcc_var_5', 'mfcc_mean_6',\n",
    "#  'mfcc_min_6', 'mfcc_max_6', 'mfcc_med_6', 'mfcc_var_6', 'mfcc_mean_7',\n",
    "#  'mfcc_min_7', 'mfcc_max_7', 'mfcc_med_7', 'mfcc_var_7', 'mfcc_mean_8',\n",
    "#  'mfcc_min_8', 'mfcc_max_8', 'mfcc_med_8', 'mfcc_var_8', 'mfcc_mean_9',\n",
    "#  'mfcc_min_9', 'mfcc_max_9', 'mfcc_med_9', 'mfcc_var_9', 'mfcc_mean_10',\n",
    "#  'mfcc_min_10', 'mfcc_max_10', 'mfcc_med_10', 'mfcc_var_10', 'mfcc_mean_11',\n",
    "#  'mfcc_min_11', 'mfcc_max_11', 'mfcc_med_11', 'mfcc_var_11', 'mfcc_mean_12',\n",
    "#  'mfcc_min_12', 'mfcc_max_12', 'mfcc_med_12', 'mfcc_var_12', 'mfcc_mean_13',\n",
    "#  'mfcc_min_13', 'mfcc_max_13', 'mfcc_med_13', 'mfcc_var_13', 'mfcc_mean_14',\n",
    "#  'mfcc_min_14', 'mfcc_max_14', 'mfcc_med_14', 'mfcc_var_14', 'mfcc_mean_15',\n",
    "#  'mfcc_min_15', 'mfcc_max_15', 'mfcc_med_15', 'mfcc_var_15', 'mfcc_mean_16',\n",
    "#  'mfcc_min_16', 'mfcc_max_16', 'mfcc_med_16', 'mfcc_var_16', 'mfcc_mean_17',\n",
    "#  'mfcc_min_17', 'mfcc_max_17', 'mfcc_med_17', 'mfcc_var_17', 'mfcc_mean_18',\n",
    "#  'mfcc_min_18', 'mfcc_max_18', 'mfcc_med_18', 'mfcc_var_18', 'mfcc_mean_19',\n",
    "#  'mfcc_min_19', 'mfcc_max_19', 'mfcc_med_19', 'mfcc_var_19', 'mfcc_mean_20',\n",
    "#  'mfcc_min_20', 'mfcc_max_20', 'mfcc_med_20', 'mfcc_var_20']]\n",
    "\n",
    "y = nemci[[\"bes\", \"dosada\",\n",
    "\"gadjenje\",\n",
    "\"strah\",\n",
    "\"sreca\",   \n",
    "\"tuga\",   \n",
    "\"neutralno\"]]"
   ]
  },
  {
   "cell_type": "code",
   "execution_count": 36,
   "metadata": {},
   "outputs": [],
   "source": [
    "X_train, X_test, y_train, y_test = train_test_split(X, y, test_size=0.3)"
   ]
  },
  {
   "cell_type": "code",
   "execution_count": 41,
   "metadata": {},
   "outputs": [
    {
     "name": "stderr",
     "output_type": "stream",
     "text": [
      "2023/07/27 15:51:59 INFO mlflow.utils.autologging_utils: Created MLflow autologging run with ID '58ae07167f164323a33f11c409e2a641', which will track hyperparameters, performance metrics, model artifacts, and lineage information for the current sklearn workflow\n"
     ]
    }
   ],
   "source": [
    "cls = svm.SVC()#kernel=\"linear\")\n",
    "cls.fit(X_train,y_train[\"sve\"])\n",
    "train_preds = cls.predict(X_train)\n",
    "test_preds = cls.predict(X_test)\n"
   ]
  },
  {
   "cell_type": "code",
   "execution_count": 42,
   "metadata": {},
   "outputs": [
    {
     "data": {
      "text/html": [
       "<div>\n",
       "<style scoped>\n",
       "    .dataframe tbody tr th:only-of-type {\n",
       "        vertical-align: middle;\n",
       "    }\n",
       "\n",
       "    .dataframe tbody tr th {\n",
       "        vertical-align: top;\n",
       "    }\n",
       "\n",
       "    .dataframe thead th {\n",
       "        text-align: right;\n",
       "    }\n",
       "</style>\n",
       "<table border=\"1\" class=\"dataframe\">\n",
       "  <thead>\n",
       "    <tr style=\"text-align: right;\">\n",
       "      <th></th>\n",
       "      <th>bes</th>\n",
       "      <th>dosada</th>\n",
       "      <th>gadjenje</th>\n",
       "      <th>strah</th>\n",
       "      <th>sreca</th>\n",
       "      <th>tuga</th>\n",
       "      <th>neutralno</th>\n",
       "      <th>sve</th>\n",
       "    </tr>\n",
       "  </thead>\n",
       "  <tbody>\n",
       "    <tr>\n",
       "      <th>397</th>\n",
       "      <td>0.0</td>\n",
       "      <td>0.0</td>\n",
       "      <td>0.0</td>\n",
       "      <td>0.0</td>\n",
       "      <td>1.0</td>\n",
       "      <td>0.0</td>\n",
       "      <td>0.0</td>\n",
       "      <td>4</td>\n",
       "    </tr>\n",
       "    <tr>\n",
       "      <th>238</th>\n",
       "      <td>0.0</td>\n",
       "      <td>0.0</td>\n",
       "      <td>0.0</td>\n",
       "      <td>1.0</td>\n",
       "      <td>0.0</td>\n",
       "      <td>0.0</td>\n",
       "      <td>0.0</td>\n",
       "      <td>3</td>\n",
       "    </tr>\n",
       "    <tr>\n",
       "      <th>288</th>\n",
       "      <td>0.0</td>\n",
       "      <td>1.0</td>\n",
       "      <td>0.0</td>\n",
       "      <td>0.0</td>\n",
       "      <td>0.0</td>\n",
       "      <td>0.0</td>\n",
       "      <td>0.0</td>\n",
       "      <td>1</td>\n",
       "    </tr>\n",
       "    <tr>\n",
       "      <th>19</th>\n",
       "      <td>1.0</td>\n",
       "      <td>0.0</td>\n",
       "      <td>0.0</td>\n",
       "      <td>0.0</td>\n",
       "      <td>0.0</td>\n",
       "      <td>0.0</td>\n",
       "      <td>0.0</td>\n",
       "      <td>0</td>\n",
       "    </tr>\n",
       "    <tr>\n",
       "      <th>279</th>\n",
       "      <td>0.0</td>\n",
       "      <td>0.0</td>\n",
       "      <td>1.0</td>\n",
       "      <td>0.0</td>\n",
       "      <td>0.0</td>\n",
       "      <td>0.0</td>\n",
       "      <td>0.0</td>\n",
       "      <td>2</td>\n",
       "    </tr>\n",
       "    <tr>\n",
       "      <th>...</th>\n",
       "      <td>...</td>\n",
       "      <td>...</td>\n",
       "      <td>...</td>\n",
       "      <td>...</td>\n",
       "      <td>...</td>\n",
       "      <td>...</td>\n",
       "      <td>...</td>\n",
       "      <td>...</td>\n",
       "    </tr>\n",
       "    <tr>\n",
       "      <th>246</th>\n",
       "      <td>1.0</td>\n",
       "      <td>0.0</td>\n",
       "      <td>0.0</td>\n",
       "      <td>0.0</td>\n",
       "      <td>0.0</td>\n",
       "      <td>0.0</td>\n",
       "      <td>0.0</td>\n",
       "      <td>0</td>\n",
       "    </tr>\n",
       "    <tr>\n",
       "      <th>188</th>\n",
       "      <td>0.0</td>\n",
       "      <td>0.0</td>\n",
       "      <td>0.0</td>\n",
       "      <td>1.0</td>\n",
       "      <td>0.0</td>\n",
       "      <td>0.0</td>\n",
       "      <td>0.0</td>\n",
       "      <td>3</td>\n",
       "    </tr>\n",
       "    <tr>\n",
       "      <th>432</th>\n",
       "      <td>0.0</td>\n",
       "      <td>0.0</td>\n",
       "      <td>1.0</td>\n",
       "      <td>0.0</td>\n",
       "      <td>0.0</td>\n",
       "      <td>0.0</td>\n",
       "      <td>0.0</td>\n",
       "      <td>2</td>\n",
       "    </tr>\n",
       "    <tr>\n",
       "      <th>333</th>\n",
       "      <td>0.0</td>\n",
       "      <td>0.0</td>\n",
       "      <td>1.0</td>\n",
       "      <td>0.0</td>\n",
       "      <td>0.0</td>\n",
       "      <td>0.0</td>\n",
       "      <td>0.0</td>\n",
       "      <td>2</td>\n",
       "    </tr>\n",
       "    <tr>\n",
       "      <th>251</th>\n",
       "      <td>1.0</td>\n",
       "      <td>0.0</td>\n",
       "      <td>0.0</td>\n",
       "      <td>0.0</td>\n",
       "      <td>0.0</td>\n",
       "      <td>0.0</td>\n",
       "      <td>0.0</td>\n",
       "      <td>0</td>\n",
       "    </tr>\n",
       "  </tbody>\n",
       "</table>\n",
       "<p>374 rows × 8 columns</p>\n",
       "</div>"
      ],
      "text/plain": [
       "     bes  dosada  gadjenje  strah  sreca  tuga  neutralno  sve\n",
       "397  0.0     0.0       0.0    0.0    1.0   0.0        0.0    4\n",
       "238  0.0     0.0       0.0    1.0    0.0   0.0        0.0    3\n",
       "288  0.0     1.0       0.0    0.0    0.0   0.0        0.0    1\n",
       "19   1.0     0.0       0.0    0.0    0.0   0.0        0.0    0\n",
       "279  0.0     0.0       1.0    0.0    0.0   0.0        0.0    2\n",
       "..   ...     ...       ...    ...    ...   ...        ...  ...\n",
       "246  1.0     0.0       0.0    0.0    0.0   0.0        0.0    0\n",
       "188  0.0     0.0       0.0    1.0    0.0   0.0        0.0    3\n",
       "432  0.0     0.0       1.0    0.0    0.0   0.0        0.0    2\n",
       "333  0.0     0.0       1.0    0.0    0.0   0.0        0.0    2\n",
       "251  1.0     0.0       0.0    0.0    0.0   0.0        0.0    0\n",
       "\n",
       "[374 rows x 8 columns]"
      ]
     },
     "execution_count": 42,
     "metadata": {},
     "output_type": "execute_result"
    }
   ],
   "source": [
    "\n",
    "y_train\n"
   ]
  },
  {
   "cell_type": "code",
   "execution_count": 43,
   "metadata": {},
   "outputs": [],
   "source": [
    "y_test[\"sve\"] = (y_test[\"bes\"] == 1.0) * 0\n",
    "y_test[\"sve\"] = (y_test[\"dosada\"] == 1.0) * 1 + y_test[\"sve\"]\n",
    "y_test[\"sve\"] = (y_test[\"gadjenje\"] == 1.0) * 2 + y_test[\"sve\"]\n",
    "y_test[\"sve\"] = (y_test[\"strah\"] == 1.0) * 3 + y_test[\"sve\"]\n",
    "y_test[\"sve\"] = (y_test[\"sreca\"] == 1.0) * 4 + y_test[\"sve\"]\n",
    "y_test[\"sve\"] = (y_test[\"tuga\"] == 1.0) * 5 + y_test[\"sve\"]\n",
    "y_test[\"sve\"] = (y_test[\"neutralno\"] == 1.0) * 6 + y_test[\"sve\"]\n",
    "\n",
    "\n",
    "y_train[\"sve\"] = (y_train[\"bes\"] == 1.0) * 0\n",
    "y_train[\"sve\"] = (y_train[\"dosada\"] == 1.0) * 1 + y_train[\"sve\"]\n",
    "y_train[\"sve\"] = (y_train[\"gadjenje\"] == 1.0) * 2 + y_train[\"sve\"]\n",
    "y_train[\"sve\"] = (y_train[\"strah\"] == 1.0) * 3 + y_train[\"sve\"]\n",
    "y_train[\"sve\"] = (y_train[\"sreca\"] == 1.0) * 4 + y_train[\"sve\"]\n",
    "y_train[\"sve\"] = (y_train[\"tuga\"] == 1.0) * 5 + y_train[\"sve\"]\n",
    "y_train[\"sve\"] = (y_train[\"neutralno\"] == 1.0) * 6 + y_train[\"sve\"]"
   ]
  },
  {
   "cell_type": "code",
   "execution_count": 44,
   "metadata": {},
   "outputs": [
    {
     "data": {
      "text/plain": [
       "397    4\n",
       "238    3\n",
       "288    1\n",
       "19     0\n",
       "279    2\n",
       "      ..\n",
       "246    0\n",
       "188    3\n",
       "432    2\n",
       "333    2\n",
       "251    0\n",
       "Name: sve, Length: 374, dtype: int64"
      ]
     },
     "execution_count": 44,
     "metadata": {},
     "output_type": "execute_result"
    }
   ],
   "source": [
    "\n",
    "y_train[\"sve\"]"
   ]
  },
  {
   "cell_type": "code",
   "execution_count": null,
   "metadata": {},
   "outputs": [],
   "source": []
  },
  {
   "cell_type": "code",
   "execution_count": 45,
   "metadata": {},
   "outputs": [],
   "source": [
    "# ## bez ovoga mozemo se upucamo u nogu samo\n",
    "# test_p = test_preds.copy()\n",
    "# train_p = train_preds.copy()\n",
    "# for i in range(len(test_p)):\n",
    "#     # print(test_preds[i])\n",
    "#     # print(max(test_preds[i]))\n",
    "#     # print(test_preds[i].argmax())\n",
    "#     test_p[i,test_p[i].argmax()] = 1.0\n",
    "#     test_p[i] = test_p[i] == 1.0\n",
    "# # np.amax(test_preds,axis=1)\n",
    "\n",
    "# for i in range(len(train_p)):\n",
    "#     # print(train_preds[i])\n",
    "#     # print(max(test_preds[i]))\n",
    "#     # print(train_preds[i].argmax())\n",
    "#     train_p[i, train_p[i].argmax()] = 1.0\n",
    "#     train_p[i] = train_p[i] == 1.0"
   ]
  },
  {
   "cell_type": "code",
   "execution_count": 46,
   "metadata": {},
   "outputs": [
    {
     "name": "stdout",
     "output_type": "stream",
     "text": [
      "0.6273291925465838\n"
     ]
    }
   ],
   "source": [
    "test_acc = accuracy_score(y_test[\"sve\"], test_preds)\n",
    "print(test_acc)"
   ]
  },
  {
   "cell_type": "code",
   "execution_count": 47,
   "metadata": {},
   "outputs": [
    {
     "name": "stdout",
     "output_type": "stream",
     "text": [
      "0.6524064171122995\n"
     ]
    }
   ],
   "source": [
    "train_acc = accuracy_score(y_train[\"sve\"], train_preds)\n",
    "print(train_acc)"
   ]
  },
  {
   "cell_type": "code",
   "execution_count": 48,
   "metadata": {},
   "outputs": [
    {
     "name": "stderr",
     "output_type": "stream",
     "text": [
      "2023/07/27 15:52:03 INFO mlflow.utils.autologging_utils: Created MLflow autologging run with ID '11ea10f1fecc4dfb93bf4dc8394ee73d', which will track hyperparameters, performance metrics, model artifacts, and lineage information for the current sklearn workflow\n"
     ]
    },
    {
     "name": "stderr",
     "output_type": "stream",
     "text": [
      "2023/07/27 15:52:06 INFO mlflow.utils.autologging_utils: Created MLflow autologging run with ID '4639be51916749c7adfc4f24ce97d675', which will track hyperparameters, performance metrics, model artifacts, and lineage information for the current sklearn workflow\n",
      "2023/07/27 15:52:08 INFO mlflow.utils.autologging_utils: Created MLflow autologging run with ID '1b325c1ac9df4065a4009ab2c3c470b9', which will track hyperparameters, performance metrics, model artifacts, and lineage information for the current sklearn workflow\n",
      "2023/07/27 15:52:11 INFO mlflow.utils.autologging_utils: Created MLflow autologging run with ID '5d7e1d74d6774b89b4a654ec3ea38ee3', which will track hyperparameters, performance metrics, model artifacts, and lineage information for the current sklearn workflow\n",
      "/home/zarko/.local/lib/python3.9/site-packages/sklearn/metrics/_classification.py:1327: UndefinedMetricWarning: Precision is ill-defined and being set to 0.0 in labels with no predicted samples. Use `zero_division` parameter to control this behavior.\n",
      "  _warn_prf(average, modifier, msg_start, len(result))\n",
      "2023/07/27 15:52:12 INFO mlflow.utils.autologging_utils: Created MLflow autologging run with ID '56a2f0cffbe749cda3541cc2e5c709d0', which will track hyperparameters, performance metrics, model artifacts, and lineage information for the current sklearn workflow\n",
      "2023/07/27 15:52:14 INFO mlflow.utils.autologging_utils: Created MLflow autologging run with ID 'b7dd3843a53443f99b0373b8dab7d7c3', which will track hyperparameters, performance metrics, model artifacts, and lineage information for the current sklearn workflow\n",
      "2023/07/27 15:52:16 INFO mlflow.utils.autologging_utils: Created MLflow autologging run with ID '04f7a73ca86b4d889ae12e2e0aac68ee', which will track hyperparameters, performance metrics, model artifacts, and lineage information for the current sklearn workflow\n",
      "2023/07/27 15:52:18 INFO mlflow.utils.autologging_utils: Created MLflow autologging run with ID '221910a511314354b5f0abbd7b1cb92b', which will track hyperparameters, performance metrics, model artifacts, and lineage information for the current sklearn workflow\n",
      "2023/07/27 15:52:19 INFO mlflow.utils.autologging_utils: Created MLflow autologging run with ID '9636c6898436457487483f9f5f796064', which will track hyperparameters, performance metrics, model artifacts, and lineage information for the current sklearn workflow\n",
      "2023/07/27 15:52:21 INFO mlflow.utils.autologging_utils: Created MLflow autologging run with ID 'd82f874d109040968ec5588bbee137a4', which will track hyperparameters, performance metrics, model artifacts, and lineage information for the current sklearn workflow\n"
     ]
    },
    {
     "name": "stdout",
     "output_type": "stream",
     "text": [
      "[0.52941176 0.5625     0.75       0.5        0.5        0.625\n",
      " 0.4375     0.4375     0.5        0.6875    ]\n"
     ]
    }
   ],
   "source": [
    "print ((cross_val_score(cls, X_test, y_test[\"sve\"], cv=10)))"
   ]
  },
  {
   "cell_type": "code",
   "execution_count": null,
   "metadata": {},
   "outputs": [],
   "source": []
  }
 ],
 "metadata": {
  "kernelspec": {
   "display_name": "Python 3",
   "language": "python",
   "name": "python3"
  },
  "language_info": {
   "codemirror_mode": {
    "name": "ipython",
    "version": 3
   },
   "file_extension": ".py",
   "mimetype": "text/x-python",
   "name": "python",
   "nbconvert_exporter": "python",
   "pygments_lexer": "ipython3",
   "version": "3.9.2"
  },
  "orig_nbformat": 4
 },
 "nbformat": 4,
 "nbformat_minor": 2
}
