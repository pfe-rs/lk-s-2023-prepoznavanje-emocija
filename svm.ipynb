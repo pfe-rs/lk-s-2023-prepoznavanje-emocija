{
 "cells": [
  {
   "cell_type": "code",
   "execution_count": 1,
   "metadata": {},
   "outputs": [
    {
     "name": "stderr",
     "output_type": "stream",
     "text": [
      "2023/07/28 12:48:30 INFO mlflow.tracking.fluent: Autologging successfully enabled for statsmodels.\n",
      "2023/07/28 12:48:31 INFO mlflow.tracking.fluent: Autologging successfully enabled for sklearn.\n"
     ]
    }
   ],
   "source": [
    "from funkcije import *"
   ]
  },
  {
   "cell_type": "code",
   "execution_count": 2,
   "metadata": {},
   "outputs": [],
   "source": [
    "nemci = pd.read_csv(\"baza_labelirana.csv\")"
   ]
  },
  {
   "cell_type": "code",
   "execution_count": 3,
   "metadata": {},
   "outputs": [],
   "source": [
    "# print(nemci.columns.values)"
   ]
  },
  {
   "cell_type": "code",
   "execution_count": 10,
   "metadata": {},
   "outputs": [],
   "source": [
    "X = nemci[['hurstovi', 'duzine', 'odnos_tišine_i_govora',\n",
    " 'najduža_priča', 'zcr_prosek', 'zcr_min', 'zcr_max', 'zcr_med', 'zcr_stdev',\n",
    " 'pitch_prosek', 'pitch_min', 'pitch_max', 'pitch_med', 'pitch_stdev',\n",
    " 'energija_prosek', 'energija_min', 'energija_max', 'energija_stdev',\n",
    " 'eng_bez_tis', 'eng_bez_tis_avg', 'eng_bez_tis_min', 'eng_bez_tis_max',\n",
    " 'eng_bez_tis_med', 'eng_bez_tis_stdev', 'energija_ukupna']]#, 'mfcc_mean_1',\n",
    "#  'mfcc_min_1', 'mfcc_max_1', 'mfcc_med_1', 'mfcc_var_1', 'mfcc_mean_2',\n",
    "#  'mfcc_min_2', 'mfcc_max_2', 'mfcc_med_2', 'mfcc_var_2', 'mfcc_mean_3',\n",
    "#  'mfcc_min_3', 'mfcc_max_3', 'mfcc_med_3', 'mfcc_var_3', 'mfcc_mean_4',\n",
    "#  'mfcc_min_4', 'mfcc_max_4', 'mfcc_med_4', 'mfcc_var_4', 'mfcc_mean_5',\n",
    "#  'mfcc_min_5', 'mfcc_max_5', 'mfcc_med_5', 'mfcc_var_5', 'mfcc_mean_6',\n",
    "#  'mfcc_min_6', 'mfcc_max_6', 'mfcc_med_6', 'mfcc_var_6', 'mfcc_mean_7',\n",
    "#  'mfcc_min_7', 'mfcc_max_7', 'mfcc_med_7', 'mfcc_var_7', 'mfcc_mean_8',\n",
    "#  'mfcc_min_8', 'mfcc_max_8', 'mfcc_med_8', 'mfcc_var_8', 'mfcc_mean_9',\n",
    "#  'mfcc_min_9', 'mfcc_max_9', 'mfcc_med_9', 'mfcc_var_9', 'mfcc_mean_10',\n",
    "#  'mfcc_min_10', 'mfcc_max_10', 'mfcc_med_10', 'mfcc_var_10', 'mfcc_mean_11',\n",
    "#  'mfcc_min_11', 'mfcc_max_11', 'mfcc_med_11', 'mfcc_var_11', 'mfcc_mean_12',\n",
    "#  'mfcc_min_12', 'mfcc_max_12', 'mfcc_med_12', 'mfcc_var_12', 'mfcc_mean_13',\n",
    "#  'mfcc_min_13', 'mfcc_max_13', 'mfcc_med_13', 'mfcc_var_13', 'mfcc_mean_14',\n",
    "#  'mfcc_min_14', 'mfcc_max_14', 'mfcc_med_14', 'mfcc_var_14', 'mfcc_mean_15',\n",
    "#  'mfcc_min_15', 'mfcc_max_15', 'mfcc_med_15', 'mfcc_var_15', 'mfcc_mean_16',\n",
    "#  'mfcc_min_16', 'mfcc_max_16', 'mfcc_med_16', 'mfcc_var_16', 'mfcc_mean_17',\n",
    "#  'mfcc_min_17', 'mfcc_max_17', 'mfcc_med_17', 'mfcc_var_17', 'mfcc_mean_18',\n",
    "#  'mfcc_min_18', 'mfcc_max_18', 'mfcc_med_18', 'mfcc_var_18', 'mfcc_mean_19',\n",
    "#  'mfcc_min_19', 'mfcc_max_19', 'mfcc_med_19', 'mfcc_var_19', 'mfcc_mean_20',\n",
    "#  'mfcc_min_20', 'mfcc_max_20', 'mfcc_med_20', 'mfcc_var_20']]\n",
    "\n",
    "\n",
    "# X = nemci[[ 'mfcc_mean_1',\n",
    "#  'mfcc_min_1', 'mfcc_max_1', 'mfcc_med_1', 'mfcc_var_1', 'mfcc_mean_2',\n",
    "#  'mfcc_min_2', 'mfcc_max_2', 'mfcc_med_2', 'mfcc_var_2', 'mfcc_mean_3',\n",
    "#  'mfcc_min_3', 'mfcc_max_3', 'mfcc_med_3', 'mfcc_var_3', 'mfcc_mean_4',\n",
    "#  'mfcc_min_4', 'mfcc_max_4', 'mfcc_med_4', 'mfcc_var_4', 'mfcc_mean_5',\n",
    "#  'mfcc_min_5', 'mfcc_max_5', 'mfcc_med_5', 'mfcc_var_5', 'mfcc_mean_6',\n",
    "#  'mfcc_min_6', 'mfcc_max_6', 'mfcc_med_6', 'mfcc_var_6', 'mfcc_mean_7',\n",
    "#  'mfcc_min_7', 'mfcc_max_7', 'mfcc_med_7', 'mfcc_var_7', 'mfcc_mean_8',\n",
    "#  'mfcc_min_8', 'mfcc_max_8', 'mfcc_med_8', 'mfcc_var_8', 'mfcc_mean_9',\n",
    "#  'mfcc_min_9', 'mfcc_max_9', 'mfcc_med_9', 'mfcc_var_9', 'mfcc_mean_10',\n",
    "#  'mfcc_min_10', 'mfcc_max_10', 'mfcc_med_10', 'mfcc_var_10', 'mfcc_mean_11',\n",
    "#  'mfcc_min_11', 'mfcc_max_11', 'mfcc_med_11', 'mfcc_var_11', 'mfcc_mean_12',\n",
    "#  'mfcc_min_12', 'mfcc_max_12', 'mfcc_med_12', 'mfcc_var_12', 'mfcc_mean_13',\n",
    "#  'mfcc_min_13', 'mfcc_max_13', 'mfcc_med_13', 'mfcc_var_13', 'mfcc_mean_14',\n",
    "#  'mfcc_min_14', 'mfcc_max_14', 'mfcc_med_14', 'mfcc_var_14', 'mfcc_mean_15',\n",
    "#  'mfcc_min_15', 'mfcc_max_15', 'mfcc_med_15', 'mfcc_var_15', 'mfcc_mean_16',\n",
    "#  'mfcc_min_16', 'mfcc_max_16', 'mfcc_med_16', 'mfcc_var_16', 'mfcc_mean_17',\n",
    "#  'mfcc_min_17', 'mfcc_max_17', 'mfcc_med_17', 'mfcc_var_17', 'mfcc_mean_18',\n",
    "#  'mfcc_min_18', 'mfcc_max_18', 'mfcc_med_18', 'mfcc_var_18', 'mfcc_mean_19',\n",
    "#  'mfcc_min_19', 'mfcc_max_19', 'mfcc_med_19', 'mfcc_var_19', 'mfcc_mean_20',\n",
    "#  'mfcc_min_20', 'mfcc_max_20', 'mfcc_med_20', 'mfcc_var_20']]\n",
    "\n",
    "\n",
    "\n",
    "X = X.values\n",
    "y = nemci[[\"sve\"]]\n",
    "y = y.values"
   ]
  },
  {
   "cell_type": "code",
   "execution_count": 11,
   "metadata": {},
   "outputs": [
    {
     "name": "stderr",
     "output_type": "stream",
     "text": [
      "2023/07/28 12:52:34 INFO mlflow.utils.autologging_utils: Created MLflow autologging run with ID '66ca562c9eaf41318916809e33ffceb3', which will track hyperparameters, performance metrics, model artifacts, and lineage information for the current sklearn workflow\n"
     ]
    },
    {
     "name": "stderr",
     "output_type": "stream",
     "text": [
      "/home/zarko/.local/lib/python3.9/site-packages/sklearn/utils/validation.py:1111: DataConversionWarning: A column-vector y was passed when a 1d array was expected. Please change the shape of y to (n_samples, ), for example using ravel().\n",
      "  y = column_or_1d(y, warn=True)\n",
      "2023/07/28 12:52:34 WARNING mlflow.sklearn.utils: Failed to autolog artifacts for SVC. Logging error: unhashable type: 'numpy.ndarray'\n",
      "2023/07/28 12:52:35 WARNING mlflow.utils.autologging_utils: Encountered unexpected error during sklearn autologging: The configured tracking uri scheme: 'file' is invalid for use with the proxy mlflow-artifact scheme. The allowed tracking schemes are: {'http', 'https'}\n",
      "/home/zarko/.local/lib/python3.9/site-packages/sklearn/utils/validation.py:1111: DataConversionWarning: A column-vector y was passed when a 1d array was expected. Please change the shape of y to (n_samples, ), for example using ravel().\n",
      "  y = column_or_1d(y, warn=True)\n",
      "2023/07/28 12:52:35 WARNING mlflow.sklearn.utils: Failed to autolog artifacts for SVC. Logging error: unhashable type: 'numpy.ndarray'\n",
      "2023/07/28 12:52:35 WARNING mlflow.utils.autologging_utils: Encountered unexpected error during sklearn autologging: The configured tracking uri scheme: 'file' is invalid for use with the proxy mlflow-artifact scheme. The allowed tracking schemes are: {'http', 'https'}\n",
      "/home/zarko/.local/lib/python3.9/site-packages/sklearn/utils/validation.py:1111: DataConversionWarning: A column-vector y was passed when a 1d array was expected. Please change the shape of y to (n_samples, ), for example using ravel().\n",
      "  y = column_or_1d(y, warn=True)\n",
      "2023/07/28 12:52:35 WARNING mlflow.sklearn.utils: Failed to autolog artifacts for SVC. Logging error: unhashable type: 'numpy.ndarray'\n",
      "2023/07/28 12:52:35 WARNING mlflow.utils.autologging_utils: Encountered unexpected error during sklearn autologging: The configured tracking uri scheme: 'file' is invalid for use with the proxy mlflow-artifact scheme. The allowed tracking schemes are: {'http', 'https'}\n",
      "/home/zarko/.local/lib/python3.9/site-packages/sklearn/utils/validation.py:1111: DataConversionWarning: A column-vector y was passed when a 1d array was expected. Please change the shape of y to (n_samples, ), for example using ravel().\n",
      "  y = column_or_1d(y, warn=True)\n",
      "2023/07/28 12:52:35 WARNING mlflow.sklearn.utils: Failed to autolog artifacts for SVC. Logging error: unhashable type: 'numpy.ndarray'\n",
      "2023/07/28 12:52:35 WARNING mlflow.utils.autologging_utils: Encountered unexpected error during sklearn autologging: The configured tracking uri scheme: 'file' is invalid for use with the proxy mlflow-artifact scheme. The allowed tracking schemes are: {'http', 'https'}\n",
      "/home/zarko/.local/lib/python3.9/site-packages/sklearn/utils/validation.py:1111: DataConversionWarning: A column-vector y was passed when a 1d array was expected. Please change the shape of y to (n_samples, ), for example using ravel().\n",
      "  y = column_or_1d(y, warn=True)\n",
      "2023/07/28 12:52:35 WARNING mlflow.sklearn.utils: Failed to autolog artifacts for SVC. Logging error: unhashable type: 'numpy.ndarray'\n",
      "2023/07/28 12:52:35 WARNING mlflow.utils.autologging_utils: Encountered unexpected error during sklearn autologging: The configured tracking uri scheme: 'file' is invalid for use with the proxy mlflow-artifact scheme. The allowed tracking schemes are: {'http', 'https'}\n",
      "/home/zarko/.local/lib/python3.9/site-packages/sklearn/utils/validation.py:1111: DataConversionWarning: A column-vector y was passed when a 1d array was expected. Please change the shape of y to (n_samples, ), for example using ravel().\n",
      "  y = column_or_1d(y, warn=True)\n",
      "2023/07/28 12:52:35 WARNING mlflow.sklearn.utils: Failed to autolog artifacts for SVC. Logging error: unhashable type: 'numpy.ndarray'\n",
      "2023/07/28 12:52:35 WARNING mlflow.utils.autologging_utils: Encountered unexpected error during sklearn autologging: The configured tracking uri scheme: 'file' is invalid for use with the proxy mlflow-artifact scheme. The allowed tracking schemes are: {'http', 'https'}\n",
      "/home/zarko/.local/lib/python3.9/site-packages/sklearn/utils/validation.py:1111: DataConversionWarning: A column-vector y was passed when a 1d array was expected. Please change the shape of y to (n_samples, ), for example using ravel().\n",
      "  y = column_or_1d(y, warn=True)\n",
      "2023/07/28 12:52:35 WARNING mlflow.sklearn.utils: Failed to autolog artifacts for SVC. Logging error: unhashable type: 'numpy.ndarray'\n",
      "2023/07/28 12:52:35 WARNING mlflow.utils.autologging_utils: Encountered unexpected error during sklearn autologging: The configured tracking uri scheme: 'file' is invalid for use with the proxy mlflow-artifact scheme. The allowed tracking schemes are: {'http', 'https'}\n",
      "/home/zarko/.local/lib/python3.9/site-packages/sklearn/utils/validation.py:1111: DataConversionWarning: A column-vector y was passed when a 1d array was expected. Please change the shape of y to (n_samples, ), for example using ravel().\n",
      "  y = column_or_1d(y, warn=True)\n",
      "2023/07/28 12:52:35 WARNING mlflow.sklearn.utils: Failed to autolog artifacts for SVC. Logging error: unhashable type: 'numpy.ndarray'\n",
      "2023/07/28 12:52:35 WARNING mlflow.utils.autologging_utils: Encountered unexpected error during sklearn autologging: The configured tracking uri scheme: 'file' is invalid for use with the proxy mlflow-artifact scheme. The allowed tracking schemes are: {'http', 'https'}\n",
      "/home/zarko/.local/lib/python3.9/site-packages/sklearn/utils/validation.py:1111: DataConversionWarning: A column-vector y was passed when a 1d array was expected. Please change the shape of y to (n_samples, ), for example using ravel().\n",
      "  y = column_or_1d(y, warn=True)\n",
      "2023/07/28 12:52:35 WARNING mlflow.sklearn.utils: Failed to autolog artifacts for SVC. Logging error: unhashable type: 'numpy.ndarray'\n",
      "2023/07/28 12:52:35 WARNING mlflow.utils.autologging_utils: Encountered unexpected error during sklearn autologging: The configured tracking uri scheme: 'file' is invalid for use with the proxy mlflow-artifact scheme. The allowed tracking schemes are: {'http', 'https'}\n",
      "/home/zarko/.local/lib/python3.9/site-packages/sklearn/utils/validation.py:1111: DataConversionWarning: A column-vector y was passed when a 1d array was expected. Please change the shape of y to (n_samples, ), for example using ravel().\n",
      "  y = column_or_1d(y, warn=True)\n",
      "2023/07/28 12:52:35 WARNING mlflow.sklearn.utils: Failed to autolog artifacts for SVC. Logging error: unhashable type: 'numpy.ndarray'\n",
      "2023/07/28 12:52:35 WARNING mlflow.utils.autologging_utils: Encountered unexpected error during sklearn autologging: The configured tracking uri scheme: 'file' is invalid for use with the proxy mlflow-artifact scheme. The allowed tracking schemes are: {'http', 'https'}\n",
      "/home/zarko/.local/lib/python3.9/site-packages/sklearn/utils/validation.py:1111: DataConversionWarning: A column-vector y was passed when a 1d array was expected. Please change the shape of y to (n_samples, ), for example using ravel().\n",
      "  y = column_or_1d(y, warn=True)\n",
      "2023/07/28 12:52:35 WARNING mlflow.sklearn.utils: Failed to autolog artifacts for SVC. Logging error: unhashable type: 'numpy.ndarray'\n",
      "2023/07/28 12:52:35 WARNING mlflow.utils.autologging_utils: Encountered unexpected error during sklearn autologging: The configured tracking uri scheme: 'file' is invalid for use with the proxy mlflow-artifact scheme. The allowed tracking schemes are: {'http', 'https'}\n",
      "/home/zarko/.local/lib/python3.9/site-packages/sklearn/utils/validation.py:1111: DataConversionWarning: A column-vector y was passed when a 1d array was expected. Please change the shape of y to (n_samples, ), for example using ravel().\n",
      "  y = column_or_1d(y, warn=True)\n",
      "2023/07/28 12:52:36 WARNING mlflow.sklearn.utils: Failed to autolog artifacts for SVC. Logging error: unhashable type: 'numpy.ndarray'\n",
      "2023/07/28 12:52:36 WARNING mlflow.utils.autologging_utils: Encountered unexpected error during sklearn autologging: The configured tracking uri scheme: 'file' is invalid for use with the proxy mlflow-artifact scheme. The allowed tracking schemes are: {'http', 'https'}\n",
      "/home/zarko/.local/lib/python3.9/site-packages/sklearn/utils/validation.py:1111: DataConversionWarning: A column-vector y was passed when a 1d array was expected. Please change the shape of y to (n_samples, ), for example using ravel().\n",
      "  y = column_or_1d(y, warn=True)\n",
      "2023/07/28 12:52:36 WARNING mlflow.sklearn.utils: Failed to autolog artifacts for SVC. Logging error: unhashable type: 'numpy.ndarray'\n",
      "2023/07/28 12:52:36 WARNING mlflow.utils.autologging_utils: Encountered unexpected error during sklearn autologging: The configured tracking uri scheme: 'file' is invalid for use with the proxy mlflow-artifact scheme. The allowed tracking schemes are: {'http', 'https'}\n",
      "/home/zarko/.local/lib/python3.9/site-packages/sklearn/utils/validation.py:1111: DataConversionWarning: A column-vector y was passed when a 1d array was expected. Please change the shape of y to (n_samples, ), for example using ravel().\n",
      "  y = column_or_1d(y, warn=True)\n",
      "2023/07/28 12:52:36 WARNING mlflow.sklearn.utils: Failed to autolog artifacts for SVC. Logging error: unhashable type: 'numpy.ndarray'\n",
      "2023/07/28 12:52:36 WARNING mlflow.utils.autologging_utils: Encountered unexpected error during sklearn autologging: The configured tracking uri scheme: 'file' is invalid for use with the proxy mlflow-artifact scheme. The allowed tracking schemes are: {'http', 'https'}\n",
      "/home/zarko/.local/lib/python3.9/site-packages/sklearn/utils/validation.py:1111: DataConversionWarning: A column-vector y was passed when a 1d array was expected. Please change the shape of y to (n_samples, ), for example using ravel().\n",
      "  y = column_or_1d(y, warn=True)\n",
      "2023/07/28 12:52:36 WARNING mlflow.sklearn.utils: Failed to autolog artifacts for SVC. Logging error: unhashable type: 'numpy.ndarray'\n",
      "2023/07/28 12:52:36 WARNING mlflow.utils.autologging_utils: Encountered unexpected error during sklearn autologging: The configured tracking uri scheme: 'file' is invalid for use with the proxy mlflow-artifact scheme. The allowed tracking schemes are: {'http', 'https'}\n",
      "/home/zarko/.local/lib/python3.9/site-packages/sklearn/utils/validation.py:1111: DataConversionWarning: A column-vector y was passed when a 1d array was expected. Please change the shape of y to (n_samples, ), for example using ravel().\n",
      "  y = column_or_1d(y, warn=True)\n",
      "2023/07/28 12:52:36 WARNING mlflow.sklearn.utils: Failed to autolog artifacts for SVC. Logging error: unhashable type: 'numpy.ndarray'\n",
      "2023/07/28 12:52:36 WARNING mlflow.utils.autologging_utils: Encountered unexpected error during sklearn autologging: The configured tracking uri scheme: 'file' is invalid for use with the proxy mlflow-artifact scheme. The allowed tracking schemes are: {'http', 'https'}\n",
      "/home/zarko/.local/lib/python3.9/site-packages/sklearn/utils/validation.py:1111: DataConversionWarning: A column-vector y was passed when a 1d array was expected. Please change the shape of y to (n_samples, ), for example using ravel().\n",
      "  y = column_or_1d(y, warn=True)\n",
      "2023/07/28 12:52:36 WARNING mlflow.sklearn.utils: Failed to autolog artifacts for SVC. Logging error: unhashable type: 'numpy.ndarray'\n",
      "2023/07/28 12:52:36 WARNING mlflow.utils.autologging_utils: Encountered unexpected error during sklearn autologging: The configured tracking uri scheme: 'file' is invalid for use with the proxy mlflow-artifact scheme. The allowed tracking schemes are: {'http', 'https'}\n",
      "/home/zarko/.local/lib/python3.9/site-packages/sklearn/utils/validation.py:1111: DataConversionWarning: A column-vector y was passed when a 1d array was expected. Please change the shape of y to (n_samples, ), for example using ravel().\n",
      "  y = column_or_1d(y, warn=True)\n",
      "2023/07/28 12:52:36 WARNING mlflow.sklearn.utils: Failed to autolog artifacts for SVC. Logging error: unhashable type: 'numpy.ndarray'\n",
      "2023/07/28 12:52:36 WARNING mlflow.utils.autologging_utils: Encountered unexpected error during sklearn autologging: The configured tracking uri scheme: 'file' is invalid for use with the proxy mlflow-artifact scheme. The allowed tracking schemes are: {'http', 'https'}\n",
      "/home/zarko/.local/lib/python3.9/site-packages/sklearn/utils/validation.py:1111: DataConversionWarning: A column-vector y was passed when a 1d array was expected. Please change the shape of y to (n_samples, ), for example using ravel().\n",
      "  y = column_or_1d(y, warn=True)\n",
      "2023/07/28 12:52:36 WARNING mlflow.sklearn.utils: Failed to autolog artifacts for SVC. Logging error: unhashable type: 'numpy.ndarray'\n",
      "2023/07/28 12:52:36 WARNING mlflow.utils.autologging_utils: Encountered unexpected error during sklearn autologging: The configured tracking uri scheme: 'file' is invalid for use with the proxy mlflow-artifact scheme. The allowed tracking schemes are: {'http', 'https'}\n",
      "/home/zarko/.local/lib/python3.9/site-packages/sklearn/utils/validation.py:1111: DataConversionWarning: A column-vector y was passed when a 1d array was expected. Please change the shape of y to (n_samples, ), for example using ravel().\n",
      "  y = column_or_1d(y, warn=True)\n",
      "2023/07/28 12:52:36 WARNING mlflow.sklearn.utils: Failed to autolog artifacts for SVC. Logging error: unhashable type: 'numpy.ndarray'\n",
      "2023/07/28 12:52:36 WARNING mlflow.utils.autologging_utils: Encountered unexpected error during sklearn autologging: The configured tracking uri scheme: 'file' is invalid for use with the proxy mlflow-artifact scheme. The allowed tracking schemes are: {'http', 'https'}\n"
     ]
    },
    {
     "name": "stdout",
     "output_type": "stream",
     "text": [
      "0.5605590062111802 0.07608695652173914\n",
      "0.5067908035050496 0.08993565103660023\n",
      "max acc: 0.6273291925465838\n",
      "min acc: 0.484472049689441\n",
      "avg precision 0.5785438926084261\n",
      "min precision: 0.4511767925561029\n",
      "max precision: 0.682458573172859\n",
      "avg recall: 0.5142965491737338\n",
      "min recall: 0.44803833553833544\n",
      "max recall: 0.5814242311344601\n",
      "\n",
      " Matrica konfuzije za max tacnost: 0.6273291925465838\n"
     ]
    }
   ],
   "source": [
    "acc =  []\n",
    "f1 =   []\n",
    "acct = []\n",
    "prec = []\n",
    "recall =   []\n",
    "conf_mat = []\n",
    "\n",
    "k = 20\n",
    "for i in range(k):\n",
    "    X_train, X_test, y_train, y_test = train_test_split(X, y, test_size=0.3)\n",
    "    cls = svm.SVC()#kernel=\"linear\")\n",
    "    cls.fit(X_train,y_train)\n",
    "    train_preds = cls.predict(X_train)\n",
    "    test_preds = cls.predict(X_test)\n",
    "\n",
    "\n",
    "\n",
    "    y_test = list(y_test)\n",
    "    metrics = get_metrics(y_test, test_preds)\n",
    "\n",
    "\n",
    "\n",
    "    acc.append(metrics['accuracy'])\n",
    "    f1.append(metrics['f1'])\n",
    "    prec.append(metrics['precision'])\n",
    "    recall.append(metrics['recall'])\n",
    "    # conf_mat.append(metrics['confusion_matrix'])\n",
    "\n",
    "    y_train = list(y_train)\n",
    "\n",
    "    dataset = mlflow.data.from_numpy(X_test)\n",
    "    mlflow.log_input(dataset, context=\"testing\")\n",
    "    mlflow.log_metrics(metrics)\n",
    "\n",
    "    m1 = get_metrics(y_train, train_preds)\n",
    "    acct.append(m1['accuracy'])\n",
    "\n",
    "mlflow.end_run()\n",
    "\n",
    "\n",
    "acc_sr = sum(acc)/len(acc)\n",
    "f1_sr =  sum(f1)/len(f1)\n",
    "acc_std = max(max(acc)-acc_sr, acc_sr-min(acc))\n",
    "f1_std = max(max(f1)-f1_sr, f1_sr-min(f1))\n",
    "\n",
    "print(acc_sr, acc_std)\n",
    "print(f1_sr, f1_std)\n",
    "print(\"max acc:\", max(acc))\n",
    "print(\"min acc:\", min(acc))\n",
    "print(\"avg precision\", sum(prec)/len(prec))\n",
    "print(\"min precision:\", min(prec) )\n",
    "print(\"max precision:\", max(prec) )\n",
    "print(\"avg recall:\", sum(recall)/len(recall))\n",
    "print(\"min recall:\",    min(recall) )\n",
    "print(\"max recall:\",    max(recall) )\n",
    "\n",
    "print(\"\\n Matrica konfuzije za max tacnost:\", max(acc))\n",
    "\n",
    "# metrics.confusion_matrix(y_test.values.argmax(axis=1), test_p.argmax(axis=1))\n",
    "# min_conf = conf_mat[acc.index(max(acc))]"
   ]
  },
  {
   "cell_type": "code",
   "execution_count": 5,
   "metadata": {},
   "outputs": [],
   "source": []
  },
  {
   "cell_type": "code",
   "execution_count": 6,
   "metadata": {},
   "outputs": [
    {
     "name": "stderr",
     "output_type": "stream",
     "text": [
      "2023/07/27 19:58:33 INFO mlflow.utils.autologging_utils: Created MLflow autologging run with ID '916e9877cb024a53aee9ccb2c66f09c0', which will track hyperparameters, performance metrics, model artifacts, and lineage information for the current sklearn workflow\n",
      "/home/zarko/.local/lib/python3.9/site-packages/sklearn/utils/validation.py:1111: DataConversionWarning: A column-vector y was passed when a 1d array was expected. Please change the shape of y to (n_samples, ), for example using ravel().\n",
      "  y = column_or_1d(y, warn=True)\n"
     ]
    }
   ],
   "source": [
    "cls = svm.SVC()#kernel=\"linear\")\n",
    "cls.fit(X_train,y_train)\n",
    "train_preds = cls.predict(X_train)\n",
    "test_preds = cls.predict(X_test)\n"
   ]
  },
  {
   "cell_type": "code",
   "execution_count": 7,
   "metadata": {},
   "outputs": [
    {
     "data": {
      "text/html": [
       "<div>\n",
       "<style scoped>\n",
       "    .dataframe tbody tr th:only-of-type {\n",
       "        vertical-align: middle;\n",
       "    }\n",
       "\n",
       "    .dataframe tbody tr th {\n",
       "        vertical-align: top;\n",
       "    }\n",
       "\n",
       "    .dataframe thead th {\n",
       "        text-align: right;\n",
       "    }\n",
       "</style>\n",
       "<table border=\"1\" class=\"dataframe\">\n",
       "  <thead>\n",
       "    <tr style=\"text-align: right;\">\n",
       "      <th></th>\n",
       "      <th>sve</th>\n",
       "    </tr>\n",
       "  </thead>\n",
       "  <tbody>\n",
       "    <tr>\n",
       "      <th>265</th>\n",
       "      <td>4</td>\n",
       "    </tr>\n",
       "    <tr>\n",
       "      <th>424</th>\n",
       "      <td>0</td>\n",
       "    </tr>\n",
       "    <tr>\n",
       "      <th>525</th>\n",
       "      <td>1</td>\n",
       "    </tr>\n",
       "    <tr>\n",
       "      <th>306</th>\n",
       "      <td>6</td>\n",
       "    </tr>\n",
       "    <tr>\n",
       "      <th>304</th>\n",
       "      <td>4</td>\n",
       "    </tr>\n",
       "    <tr>\n",
       "      <th>...</th>\n",
       "      <td>...</td>\n",
       "    </tr>\n",
       "    <tr>\n",
       "      <th>175</th>\n",
       "      <td>3</td>\n",
       "    </tr>\n",
       "    <tr>\n",
       "      <th>330</th>\n",
       "      <td>1</td>\n",
       "    </tr>\n",
       "    <tr>\n",
       "      <th>263</th>\n",
       "      <td>3</td>\n",
       "    </tr>\n",
       "    <tr>\n",
       "      <th>30</th>\n",
       "      <td>0</td>\n",
       "    </tr>\n",
       "    <tr>\n",
       "      <th>95</th>\n",
       "      <td>4</td>\n",
       "    </tr>\n",
       "  </tbody>\n",
       "</table>\n",
       "<p>374 rows × 1 columns</p>\n",
       "</div>"
      ],
      "text/plain": [
       "     sve\n",
       "265    4\n",
       "424    0\n",
       "525    1\n",
       "306    6\n",
       "304    4\n",
       "..   ...\n",
       "175    3\n",
       "330    1\n",
       "263    3\n",
       "30     0\n",
       "95     4\n",
       "\n",
       "[374 rows x 1 columns]"
      ]
     },
     "execution_count": 7,
     "metadata": {},
     "output_type": "execute_result"
    }
   ],
   "source": [
    "\n",
    "y_train\n"
   ]
  },
  {
   "cell_type": "code",
   "execution_count": 45,
   "metadata": {},
   "outputs": [],
   "source": [
    "# ## bez ovoga mozemo se upucamo u nogu samo\n",
    "# test_p = test_preds.copy()\n",
    "# train_p = train_preds.copy()\n",
    "# for i in range(len(test_p)):\n",
    "#     # print(test_preds[i])\n",
    "#     # print(max(test_preds[i]))\n",
    "#     # print(test_preds[i].argmax())\n",
    "#     test_p[i,test_p[i].argmax()] = 1.0\n",
    "#     test_p[i] = test_p[i] == 1.0\n",
    "# # np.amax(test_preds,axis=1)\n",
    "\n",
    "# for i in range(len(train_p)):\n",
    "#     # print(train_preds[i])\n",
    "#     # print(max(test_preds[i]))\n",
    "#     # print(train_preds[i].argmax())\n",
    "#     train_p[i, train_p[i].argmax()] = 1.0\n",
    "#     train_p[i] = train_p[i] == 1.0"
   ]
  },
  {
   "cell_type": "code",
   "execution_count": 8,
   "metadata": {},
   "outputs": [
    {
     "name": "stdout",
     "output_type": "stream",
     "text": [
      "0.5527950310559007\n"
     ]
    }
   ],
   "source": [
    "test_acc = accuracy_score(y_test, test_preds)\n",
    "print(test_acc)"
   ]
  },
  {
   "cell_type": "code",
   "execution_count": 9,
   "metadata": {},
   "outputs": [
    {
     "name": "stdout",
     "output_type": "stream",
     "text": [
      "0.6978609625668449\n"
     ]
    }
   ],
   "source": [
    "train_acc = accuracy_score(y_train, train_preds)\n",
    "print(train_acc)"
   ]
  },
  {
   "cell_type": "code",
   "execution_count": 10,
   "metadata": {},
   "outputs": [
    {
     "name": "stderr",
     "output_type": "stream",
     "text": [
      "/home/zarko/.local/lib/python3.9/site-packages/sklearn/model_selection/_split.py:680: UserWarning: The least populated class in y has only 13 members, which is less than n_splits=20.\n",
      "  warnings.warn(\n",
      "2023/07/27 19:58:47 INFO mlflow.utils.autologging_utils: Created MLflow autologging run with ID '881802425ea4464d96bcb13b183df3e5', which will track hyperparameters, performance metrics, model artifacts, and lineage information for the current sklearn workflow\n"
     ]
    },
    {
     "name": "stderr",
     "output_type": "stream",
     "text": [
      "/home/zarko/.local/lib/python3.9/site-packages/sklearn/utils/validation.py:1111: DataConversionWarning: A column-vector y was passed when a 1d array was expected. Please change the shape of y to (n_samples, ), for example using ravel().\n",
      "  y = column_or_1d(y, warn=True)\n",
      "2023/07/27 19:58:49 INFO mlflow.utils.autologging_utils: Created MLflow autologging run with ID 'b203e4268b0f48f4820c1780674b43fa', which will track hyperparameters, performance metrics, model artifacts, and lineage information for the current sklearn workflow\n",
      "/home/zarko/.local/lib/python3.9/site-packages/sklearn/utils/validation.py:1111: DataConversionWarning: A column-vector y was passed when a 1d array was expected. Please change the shape of y to (n_samples, ), for example using ravel().\n",
      "  y = column_or_1d(y, warn=True)\n",
      "2023/07/27 19:58:50 INFO mlflow.utils.autologging_utils: Created MLflow autologging run with ID 'cff1965e1c7e419589d80acf9756d09f', which will track hyperparameters, performance metrics, model artifacts, and lineage information for the current sklearn workflow\n",
      "/home/zarko/.local/lib/python3.9/site-packages/sklearn/utils/validation.py:1111: DataConversionWarning: A column-vector y was passed when a 1d array was expected. Please change the shape of y to (n_samples, ), for example using ravel().\n",
      "  y = column_or_1d(y, warn=True)\n",
      "2023/07/27 19:58:52 INFO mlflow.utils.autologging_utils: Created MLflow autologging run with ID '215a40f5500e47939daf4a04511706d6', which will track hyperparameters, performance metrics, model artifacts, and lineage information for the current sklearn workflow\n",
      "/home/zarko/.local/lib/python3.9/site-packages/sklearn/utils/validation.py:1111: DataConversionWarning: A column-vector y was passed when a 1d array was expected. Please change the shape of y to (n_samples, ), for example using ravel().\n",
      "  y = column_or_1d(y, warn=True)\n",
      "2023/07/27 19:58:54 INFO mlflow.utils.autologging_utils: Created MLflow autologging run with ID 'cc23dc7378504c7fb99fc48c28ad3c73', which will track hyperparameters, performance metrics, model artifacts, and lineage information for the current sklearn workflow\n",
      "/home/zarko/.local/lib/python3.9/site-packages/sklearn/utils/validation.py:1111: DataConversionWarning: A column-vector y was passed when a 1d array was expected. Please change the shape of y to (n_samples, ), for example using ravel().\n",
      "  y = column_or_1d(y, warn=True)\n",
      "2023/07/27 19:58:56 INFO mlflow.utils.autologging_utils: Created MLflow autologging run with ID '4cbb1f5f453b4baf81f9e6c88c53a92a', which will track hyperparameters, performance metrics, model artifacts, and lineage information for the current sklearn workflow\n",
      "/home/zarko/.local/lib/python3.9/site-packages/sklearn/utils/validation.py:1111: DataConversionWarning: A column-vector y was passed when a 1d array was expected. Please change the shape of y to (n_samples, ), for example using ravel().\n",
      "  y = column_or_1d(y, warn=True)\n",
      "2023/07/27 19:58:57 INFO mlflow.utils.autologging_utils: Created MLflow autologging run with ID '812e8be48ec3423db1ba318a0112c989', which will track hyperparameters, performance metrics, model artifacts, and lineage information for the current sklearn workflow\n",
      "/home/zarko/.local/lib/python3.9/site-packages/sklearn/utils/validation.py:1111: DataConversionWarning: A column-vector y was passed when a 1d array was expected. Please change the shape of y to (n_samples, ), for example using ravel().\n",
      "  y = column_or_1d(y, warn=True)\n",
      "2023/07/27 19:58:59 INFO mlflow.utils.autologging_utils: Created MLflow autologging run with ID '48c49bf6b0314ac298b57d478af139d4', which will track hyperparameters, performance metrics, model artifacts, and lineage information for the current sklearn workflow\n",
      "/home/zarko/.local/lib/python3.9/site-packages/sklearn/utils/validation.py:1111: DataConversionWarning: A column-vector y was passed when a 1d array was expected. Please change the shape of y to (n_samples, ), for example using ravel().\n",
      "  y = column_or_1d(y, warn=True)\n",
      "2023/07/27 19:59:01 INFO mlflow.utils.autologging_utils: Created MLflow autologging run with ID '78bf9ba1b7d644f49692e238ab11ec52', which will track hyperparameters, performance metrics, model artifacts, and lineage information for the current sklearn workflow\n",
      "/home/zarko/.local/lib/python3.9/site-packages/sklearn/utils/validation.py:1111: DataConversionWarning: A column-vector y was passed when a 1d array was expected. Please change the shape of y to (n_samples, ), for example using ravel().\n",
      "  y = column_or_1d(y, warn=True)\n",
      "2023/07/27 19:59:03 INFO mlflow.utils.autologging_utils: Created MLflow autologging run with ID '4c265d6edcee436f92a2ea61d238d226', which will track hyperparameters, performance metrics, model artifacts, and lineage information for the current sklearn workflow\n",
      "/home/zarko/.local/lib/python3.9/site-packages/sklearn/utils/validation.py:1111: DataConversionWarning: A column-vector y was passed when a 1d array was expected. Please change the shape of y to (n_samples, ), for example using ravel().\n",
      "  y = column_or_1d(y, warn=True)\n",
      "2023/07/27 19:59:05 INFO mlflow.utils.autologging_utils: Created MLflow autologging run with ID '48781eec431244baa1044d08ebbc8942', which will track hyperparameters, performance metrics, model artifacts, and lineage information for the current sklearn workflow\n",
      "/home/zarko/.local/lib/python3.9/site-packages/sklearn/utils/validation.py:1111: DataConversionWarning: A column-vector y was passed when a 1d array was expected. Please change the shape of y to (n_samples, ), for example using ravel().\n",
      "  y = column_or_1d(y, warn=True)\n",
      "2023/07/27 19:59:06 INFO mlflow.utils.autologging_utils: Created MLflow autologging run with ID 'eec8e604db3147d38b6e919aaad3cc35', which will track hyperparameters, performance metrics, model artifacts, and lineage information for the current sklearn workflow\n",
      "/home/zarko/.local/lib/python3.9/site-packages/sklearn/utils/validation.py:1111: DataConversionWarning: A column-vector y was passed when a 1d array was expected. Please change the shape of y to (n_samples, ), for example using ravel().\n",
      "  y = column_or_1d(y, warn=True)\n",
      "2023/07/27 19:59:08 INFO mlflow.utils.autologging_utils: Created MLflow autologging run with ID '355e9baca0a04d9f8cdaa326c9fb852c', which will track hyperparameters, performance metrics, model artifacts, and lineage information for the current sklearn workflow\n",
      "/home/zarko/.local/lib/python3.9/site-packages/sklearn/utils/validation.py:1111: DataConversionWarning: A column-vector y was passed when a 1d array was expected. Please change the shape of y to (n_samples, ), for example using ravel().\n",
      "  y = column_or_1d(y, warn=True)\n",
      "2023/07/27 19:59:10 INFO mlflow.utils.autologging_utils: Created MLflow autologging run with ID '793bfa3b7d834f1992f64e53d18fc410', which will track hyperparameters, performance metrics, model artifacts, and lineage information for the current sklearn workflow\n",
      "/home/zarko/.local/lib/python3.9/site-packages/sklearn/utils/validation.py:1111: DataConversionWarning: A column-vector y was passed when a 1d array was expected. Please change the shape of y to (n_samples, ), for example using ravel().\n",
      "  y = column_or_1d(y, warn=True)\n",
      "2023/07/27 19:59:12 INFO mlflow.utils.autologging_utils: Created MLflow autologging run with ID '43ba38a048d848a191a04a1f4c07000a', which will track hyperparameters, performance metrics, model artifacts, and lineage information for the current sklearn workflow\n",
      "/home/zarko/.local/lib/python3.9/site-packages/sklearn/utils/validation.py:1111: DataConversionWarning: A column-vector y was passed when a 1d array was expected. Please change the shape of y to (n_samples, ), for example using ravel().\n",
      "  y = column_or_1d(y, warn=True)\n",
      "2023/07/27 19:59:13 INFO mlflow.utils.autologging_utils: Created MLflow autologging run with ID 'f22417fbfc20466abf8bf6dc8cfe24e2', which will track hyperparameters, performance metrics, model artifacts, and lineage information for the current sklearn workflow\n",
      "/home/zarko/.local/lib/python3.9/site-packages/sklearn/utils/validation.py:1111: DataConversionWarning: A column-vector y was passed when a 1d array was expected. Please change the shape of y to (n_samples, ), for example using ravel().\n",
      "  y = column_or_1d(y, warn=True)\n",
      "2023/07/27 19:59:15 INFO mlflow.utils.autologging_utils: Created MLflow autologging run with ID '22bc6f63565642fc818d49073782c6f2', which will track hyperparameters, performance metrics, model artifacts, and lineage information for the current sklearn workflow\n",
      "/home/zarko/.local/lib/python3.9/site-packages/sklearn/utils/validation.py:1111: DataConversionWarning: A column-vector y was passed when a 1d array was expected. Please change the shape of y to (n_samples, ), for example using ravel().\n",
      "  y = column_or_1d(y, warn=True)\n",
      "2023/07/27 19:59:17 INFO mlflow.utils.autologging_utils: Created MLflow autologging run with ID '88fa18bc75684e59b292211558dab2e7', which will track hyperparameters, performance metrics, model artifacts, and lineage information for the current sklearn workflow\n",
      "/home/zarko/.local/lib/python3.9/site-packages/sklearn/utils/validation.py:1111: DataConversionWarning: A column-vector y was passed when a 1d array was expected. Please change the shape of y to (n_samples, ), for example using ravel().\n",
      "  y = column_or_1d(y, warn=True)\n",
      "2023/07/27 19:59:19 INFO mlflow.utils.autologging_utils: Created MLflow autologging run with ID 'c37d05cbbc2540d280d913245b41ffd0', which will track hyperparameters, performance metrics, model artifacts, and lineage information for the current sklearn workflow\n",
      "/home/zarko/.local/lib/python3.9/site-packages/sklearn/utils/validation.py:1111: DataConversionWarning: A column-vector y was passed when a 1d array was expected. Please change the shape of y to (n_samples, ), for example using ravel().\n",
      "  y = column_or_1d(y, warn=True)\n",
      "2023/07/27 19:59:20 INFO mlflow.utils.autologging_utils: Created MLflow autologging run with ID 'd1780b7472de4660a5c4539ac6616cb6', which will track hyperparameters, performance metrics, model artifacts, and lineage information for the current sklearn workflow\n",
      "/home/zarko/.local/lib/python3.9/site-packages/sklearn/utils/validation.py:1111: DataConversionWarning: A column-vector y was passed when a 1d array was expected. Please change the shape of y to (n_samples, ), for example using ravel().\n",
      "  y = column_or_1d(y, warn=True)\n"
     ]
    },
    {
     "name": "stdout",
     "output_type": "stream",
     "text": [
      "[0.44444444 0.375      0.5        0.625      0.375      0.375\n",
      " 0.25       0.5        0.375      0.375      0.375      0.5\n",
      " 0.5        0.5        0.5        0.375      0.25       0.5\n",
      " 0.5        0.125     ]\n"
     ]
    }
   ],
   "source": [
    "print ((cross_val_score(cls, X_test, y_test, cv=20)))"
   ]
  },
  {
   "cell_type": "code",
   "execution_count": null,
   "metadata": {},
   "outputs": [],
   "source": []
  }
 ],
 "metadata": {
  "kernelspec": {
   "display_name": "Python 3",
   "language": "python",
   "name": "python3"
  },
  "language_info": {
   "codemirror_mode": {
    "name": "ipython",
    "version": 3
   },
   "file_extension": ".py",
   "mimetype": "text/x-python",
   "name": "python",
   "nbconvert_exporter": "python",
   "pygments_lexer": "ipython3",
   "version": "3.9.2"
  },
  "orig_nbformat": 4
 },
 "nbformat": 4,
 "nbformat_minor": 2
}
