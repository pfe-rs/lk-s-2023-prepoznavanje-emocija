{
 "cells": [
  {
   "cell_type": "code",
   "execution_count": 1,
   "metadata": {},
   "outputs": [
    {
     "name": "stderr",
     "output_type": "stream",
     "text": [
      "2023/07/27 15:58:32 INFO mlflow.tracking.fluent: Autologging successfully enabled for statsmodels.\n",
      "2023/07/27 15:58:32 INFO mlflow.tracking.fluent: Autologging successfully enabled for sklearn.\n"
     ]
    }
   ],
   "source": [
    "from funkcije import *\n",
    "from sklearn import svm"
   ]
  },
  {
   "cell_type": "code",
   "execution_count": 2,
   "metadata": {},
   "outputs": [],
   "source": [
    "nemci = pd.read_csv(\"baza_labelirana.csv\")"
   ]
  },
  {
   "cell_type": "code",
   "execution_count": 3,
   "metadata": {},
   "outputs": [
    {
     "name": "stdout",
     "output_type": "stream",
     "text": [
      "['filename' 'kod_govornika' 'kod_recenice' 'kod_emocije' 'naziv_emocije'\n",
      " 'pol' 'godiste' 'hurstovi' 'duzine' 'odnos_tišine_i_govora'\n",
      " 'najduža_priča' 'zcr_prosek' 'zcr_min' 'zcr_max' 'zcr_med' 'zcr_stdev'\n",
      " 'pitch_prosek' 'pitch_min' 'pitch_max' 'pitch_med' 'pitch_stdev'\n",
      " 'energija_prosek' 'energija_min' 'energija_max' 'energija_stdev'\n",
      " 'eng_bez_tis' 'eng_bez_tis_avg' 'eng_bez_tis_min' 'eng_bez_tis_max'\n",
      " 'eng_bez_tis_med' 'eng_bez_tis_stdev' 'energija_ukupna' 'mfcc_mean_1'\n",
      " 'mfcc_min_1' 'mfcc_max_1' 'mfcc_med_1' 'mfcc_var_1' 'mfcc_mean_2'\n",
      " 'mfcc_min_2' 'mfcc_max_2' 'mfcc_med_2' 'mfcc_var_2' 'mfcc_mean_3'\n",
      " 'mfcc_min_3' 'mfcc_max_3' 'mfcc_med_3' 'mfcc_var_3' 'mfcc_mean_4'\n",
      " 'mfcc_min_4' 'mfcc_max_4' 'mfcc_med_4' 'mfcc_var_4' 'mfcc_mean_5'\n",
      " 'mfcc_min_5' 'mfcc_max_5' 'mfcc_med_5' 'mfcc_var_5' 'mfcc_mean_6'\n",
      " 'mfcc_min_6' 'mfcc_max_6' 'mfcc_med_6' 'mfcc_var_6' 'mfcc_mean_7'\n",
      " 'mfcc_min_7' 'mfcc_max_7' 'mfcc_med_7' 'mfcc_var_7' 'mfcc_mean_8'\n",
      " 'mfcc_min_8' 'mfcc_max_8' 'mfcc_med_8' 'mfcc_var_8' 'mfcc_mean_9'\n",
      " 'mfcc_min_9' 'mfcc_max_9' 'mfcc_med_9' 'mfcc_var_9' 'mfcc_mean_10'\n",
      " 'mfcc_min_10' 'mfcc_max_10' 'mfcc_med_10' 'mfcc_var_10' 'mfcc_mean_11'\n",
      " 'mfcc_min_11' 'mfcc_max_11' 'mfcc_med_11' 'mfcc_var_11' 'mfcc_mean_12'\n",
      " 'mfcc_min_12' 'mfcc_max_12' 'mfcc_med_12' 'mfcc_var_12' 'mfcc_mean_13'\n",
      " 'mfcc_min_13' 'mfcc_max_13' 'mfcc_med_13' 'mfcc_var_13' 'mfcc_mean_14'\n",
      " 'mfcc_min_14' 'mfcc_max_14' 'mfcc_med_14' 'mfcc_var_14' 'mfcc_mean_15'\n",
      " 'mfcc_min_15' 'mfcc_max_15' 'mfcc_med_15' 'mfcc_var_15' 'mfcc_mean_16'\n",
      " 'mfcc_min_16' 'mfcc_max_16' 'mfcc_med_16' 'mfcc_var_16' 'mfcc_mean_17'\n",
      " 'mfcc_min_17' 'mfcc_max_17' 'mfcc_med_17' 'mfcc_var_17' 'mfcc_mean_18'\n",
      " 'mfcc_min_18' 'mfcc_max_18' 'mfcc_med_18' 'mfcc_var_18' 'mfcc_mean_19'\n",
      " 'mfcc_min_19' 'mfcc_max_19' 'mfcc_med_19' 'mfcc_var_19' 'mfcc_mean_20'\n",
      " 'mfcc_min_20' 'mfcc_max_20' 'mfcc_med_20' 'mfcc_var_20' 'bes' 'dosada'\n",
      " 'gadjenje' 'strah' 'sreca' 'tuga' 'neutralno']\n"
     ]
    }
   ],
   "source": [
    "print(nemci.columns.values)"
   ]
  },
  {
   "cell_type": "code",
   "execution_count": 3,
   "metadata": {},
   "outputs": [],
   "source": [
    "X = nemci[['hurstovi', 'duzine', 'odnos_tišine_i_govora',\n",
    " 'najduža_priča', 'zcr_prosek', 'zcr_min', 'zcr_max', 'zcr_med', 'zcr_stdev',\n",
    " 'pitch_prosek', 'pitch_min', 'pitch_max', 'pitch_med', 'pitch_stdev',\n",
    " 'energija_prosek', 'energija_min', 'energija_max', 'energija_stdev',\n",
    " 'eng_bez_tis', 'eng_bez_tis_avg', 'eng_bez_tis_min', 'eng_bez_tis_max',\n",
    " 'eng_bez_tis_med', 'eng_bez_tis_stdev']]#, 'energija_ukupna']]#, 'mfcc_mean_1',\n",
    "#  'mfcc_min_1', 'mfcc_max_1', 'mfcc_med_1', 'mfcc_var_1', 'mfcc_mean_2',\n",
    "#  'mfcc_min_2', 'mfcc_max_2', 'mfcc_med_2', 'mfcc_var_2', 'mfcc_mean_3',\n",
    "#  'mfcc_min_3', 'mfcc_max_3', 'mfcc_med_3', 'mfcc_var_3', 'mfcc_mean_4',\n",
    "#  'mfcc_min_4', 'mfcc_max_4', 'mfcc_med_4', 'mfcc_var_4', 'mfcc_mean_5',\n",
    "#  'mfcc_min_5', 'mfcc_max_5', 'mfcc_med_5', 'mfcc_var_5', 'mfcc_mean_6',\n",
    "#  'mfcc_min_6', 'mfcc_max_6', 'mfcc_med_6', 'mfcc_var_6', 'mfcc_mean_7',\n",
    "#  'mfcc_min_7', 'mfcc_max_7', 'mfcc_med_7', 'mfcc_var_7', 'mfcc_mean_8',\n",
    "#  'mfcc_min_8', 'mfcc_max_8', 'mfcc_med_8', 'mfcc_var_8', 'mfcc_mean_9',\n",
    "#  'mfcc_min_9', 'mfcc_max_9', 'mfcc_med_9', 'mfcc_var_9', 'mfcc_mean_10',\n",
    "#  'mfcc_min_10', 'mfcc_max_10', 'mfcc_med_10', 'mfcc_var_10', 'mfcc_mean_11',\n",
    "#  'mfcc_min_11', 'mfcc_max_11', 'mfcc_med_11', 'mfcc_var_11', 'mfcc_mean_12',\n",
    "#  'mfcc_min_12', 'mfcc_max_12', 'mfcc_med_12', 'mfcc_var_12', 'mfcc_mean_13',\n",
    "#  'mfcc_min_13', 'mfcc_max_13', 'mfcc_med_13', 'mfcc_var_13', 'mfcc_mean_14',\n",
    "#  'mfcc_min_14', 'mfcc_max_14', 'mfcc_med_14', 'mfcc_var_14', 'mfcc_mean_15',\n",
    "#  'mfcc_min_15', 'mfcc_max_15', 'mfcc_med_15', 'mfcc_var_15', 'mfcc_mean_16',\n",
    "#  'mfcc_min_16', 'mfcc_max_16', 'mfcc_med_16', 'mfcc_var_16', 'mfcc_mean_17',\n",
    "#  'mfcc_min_17', 'mfcc_max_17', 'mfcc_med_17', 'mfcc_var_17', 'mfcc_mean_18',\n",
    "#  'mfcc_min_18', 'mfcc_max_18', 'mfcc_med_18', 'mfcc_var_18', 'mfcc_mean_19',\n",
    "#  'mfcc_min_19', 'mfcc_max_19', 'mfcc_med_19', 'mfcc_var_19', 'mfcc_mean_20',\n",
    "#  'mfcc_min_20', 'mfcc_max_20', 'mfcc_med_20', 'mfcc_var_20']]\n",
    "\n",
    "y = nemci[[\"sve\"]]"
   ]
  },
  {
   "cell_type": "code",
   "execution_count": 4,
   "metadata": {},
   "outputs": [],
   "source": [
    "X_train, X_test, y_train, y_test = train_test_split(X, y, test_size=0.3)"
   ]
  },
  {
   "cell_type": "code",
   "execution_count": 5,
   "metadata": {},
   "outputs": [
    {
     "name": "stderr",
     "output_type": "stream",
     "text": [
      "2023/07/27 15:59:10 INFO mlflow.utils.autologging_utils: Created MLflow autologging run with ID '83bb9d1444b74e8dba8f24e97b45f738', which will track hyperparameters, performance metrics, model artifacts, and lineage information for the current sklearn workflow\n",
      "/home/zarko/.local/lib/python3.9/site-packages/sklearn/utils/validation.py:1111: DataConversionWarning: A column-vector y was passed when a 1d array was expected. Please change the shape of y to (n_samples, ), for example using ravel().\n",
      "  y = column_or_1d(y, warn=True)\n"
     ]
    }
   ],
   "source": [
    "cls = svm.SVC()#kernel=\"linear\")\n",
    "cls.fit(X_train,y_train)\n",
    "train_preds = cls.predict(X_train)\n",
    "test_preds = cls.predict(X_test)\n"
   ]
  },
  {
   "cell_type": "code",
   "execution_count": 42,
   "metadata": {},
   "outputs": [
    {
     "data": {
      "text/html": [
       "<div>\n",
       "<style scoped>\n",
       "    .dataframe tbody tr th:only-of-type {\n",
       "        vertical-align: middle;\n",
       "    }\n",
       "\n",
       "    .dataframe tbody tr th {\n",
       "        vertical-align: top;\n",
       "    }\n",
       "\n",
       "    .dataframe thead th {\n",
       "        text-align: right;\n",
       "    }\n",
       "</style>\n",
       "<table border=\"1\" class=\"dataframe\">\n",
       "  <thead>\n",
       "    <tr style=\"text-align: right;\">\n",
       "      <th></th>\n",
       "      <th>bes</th>\n",
       "      <th>dosada</th>\n",
       "      <th>gadjenje</th>\n",
       "      <th>strah</th>\n",
       "      <th>sreca</th>\n",
       "      <th>tuga</th>\n",
       "      <th>neutralno</th>\n",
       "      <th>sve</th>\n",
       "    </tr>\n",
       "  </thead>\n",
       "  <tbody>\n",
       "    <tr>\n",
       "      <th>397</th>\n",
       "      <td>0.0</td>\n",
       "      <td>0.0</td>\n",
       "      <td>0.0</td>\n",
       "      <td>0.0</td>\n",
       "      <td>1.0</td>\n",
       "      <td>0.0</td>\n",
       "      <td>0.0</td>\n",
       "      <td>4</td>\n",
       "    </tr>\n",
       "    <tr>\n",
       "      <th>238</th>\n",
       "      <td>0.0</td>\n",
       "      <td>0.0</td>\n",
       "      <td>0.0</td>\n",
       "      <td>1.0</td>\n",
       "      <td>0.0</td>\n",
       "      <td>0.0</td>\n",
       "      <td>0.0</td>\n",
       "      <td>3</td>\n",
       "    </tr>\n",
       "    <tr>\n",
       "      <th>288</th>\n",
       "      <td>0.0</td>\n",
       "      <td>1.0</td>\n",
       "      <td>0.0</td>\n",
       "      <td>0.0</td>\n",
       "      <td>0.0</td>\n",
       "      <td>0.0</td>\n",
       "      <td>0.0</td>\n",
       "      <td>1</td>\n",
       "    </tr>\n",
       "    <tr>\n",
       "      <th>19</th>\n",
       "      <td>1.0</td>\n",
       "      <td>0.0</td>\n",
       "      <td>0.0</td>\n",
       "      <td>0.0</td>\n",
       "      <td>0.0</td>\n",
       "      <td>0.0</td>\n",
       "      <td>0.0</td>\n",
       "      <td>0</td>\n",
       "    </tr>\n",
       "    <tr>\n",
       "      <th>279</th>\n",
       "      <td>0.0</td>\n",
       "      <td>0.0</td>\n",
       "      <td>1.0</td>\n",
       "      <td>0.0</td>\n",
       "      <td>0.0</td>\n",
       "      <td>0.0</td>\n",
       "      <td>0.0</td>\n",
       "      <td>2</td>\n",
       "    </tr>\n",
       "    <tr>\n",
       "      <th>...</th>\n",
       "      <td>...</td>\n",
       "      <td>...</td>\n",
       "      <td>...</td>\n",
       "      <td>...</td>\n",
       "      <td>...</td>\n",
       "      <td>...</td>\n",
       "      <td>...</td>\n",
       "      <td>...</td>\n",
       "    </tr>\n",
       "    <tr>\n",
       "      <th>246</th>\n",
       "      <td>1.0</td>\n",
       "      <td>0.0</td>\n",
       "      <td>0.0</td>\n",
       "      <td>0.0</td>\n",
       "      <td>0.0</td>\n",
       "      <td>0.0</td>\n",
       "      <td>0.0</td>\n",
       "      <td>0</td>\n",
       "    </tr>\n",
       "    <tr>\n",
       "      <th>188</th>\n",
       "      <td>0.0</td>\n",
       "      <td>0.0</td>\n",
       "      <td>0.0</td>\n",
       "      <td>1.0</td>\n",
       "      <td>0.0</td>\n",
       "      <td>0.0</td>\n",
       "      <td>0.0</td>\n",
       "      <td>3</td>\n",
       "    </tr>\n",
       "    <tr>\n",
       "      <th>432</th>\n",
       "      <td>0.0</td>\n",
       "      <td>0.0</td>\n",
       "      <td>1.0</td>\n",
       "      <td>0.0</td>\n",
       "      <td>0.0</td>\n",
       "      <td>0.0</td>\n",
       "      <td>0.0</td>\n",
       "      <td>2</td>\n",
       "    </tr>\n",
       "    <tr>\n",
       "      <th>333</th>\n",
       "      <td>0.0</td>\n",
       "      <td>0.0</td>\n",
       "      <td>1.0</td>\n",
       "      <td>0.0</td>\n",
       "      <td>0.0</td>\n",
       "      <td>0.0</td>\n",
       "      <td>0.0</td>\n",
       "      <td>2</td>\n",
       "    </tr>\n",
       "    <tr>\n",
       "      <th>251</th>\n",
       "      <td>1.0</td>\n",
       "      <td>0.0</td>\n",
       "      <td>0.0</td>\n",
       "      <td>0.0</td>\n",
       "      <td>0.0</td>\n",
       "      <td>0.0</td>\n",
       "      <td>0.0</td>\n",
       "      <td>0</td>\n",
       "    </tr>\n",
       "  </tbody>\n",
       "</table>\n",
       "<p>374 rows × 8 columns</p>\n",
       "</div>"
      ],
      "text/plain": [
       "     bes  dosada  gadjenje  strah  sreca  tuga  neutralno  sve\n",
       "397  0.0     0.0       0.0    0.0    1.0   0.0        0.0    4\n",
       "238  0.0     0.0       0.0    1.0    0.0   0.0        0.0    3\n",
       "288  0.0     1.0       0.0    0.0    0.0   0.0        0.0    1\n",
       "19   1.0     0.0       0.0    0.0    0.0   0.0        0.0    0\n",
       "279  0.0     0.0       1.0    0.0    0.0   0.0        0.0    2\n",
       "..   ...     ...       ...    ...    ...   ...        ...  ...\n",
       "246  1.0     0.0       0.0    0.0    0.0   0.0        0.0    0\n",
       "188  0.0     0.0       0.0    1.0    0.0   0.0        0.0    3\n",
       "432  0.0     0.0       1.0    0.0    0.0   0.0        0.0    2\n",
       "333  0.0     0.0       1.0    0.0    0.0   0.0        0.0    2\n",
       "251  1.0     0.0       0.0    0.0    0.0   0.0        0.0    0\n",
       "\n",
       "[374 rows x 8 columns]"
      ]
     },
     "execution_count": 42,
     "metadata": {},
     "output_type": "execute_result"
    }
   ],
   "source": [
    "\n",
    "y_train\n"
   ]
  },
  {
   "cell_type": "code",
   "execution_count": 45,
   "metadata": {},
   "outputs": [],
   "source": [
    "# ## bez ovoga mozemo se upucamo u nogu samo\n",
    "# test_p = test_preds.copy()\n",
    "# train_p = train_preds.copy()\n",
    "# for i in range(len(test_p)):\n",
    "#     # print(test_preds[i])\n",
    "#     # print(max(test_preds[i]))\n",
    "#     # print(test_preds[i].argmax())\n",
    "#     test_p[i,test_p[i].argmax()] = 1.0\n",
    "#     test_p[i] = test_p[i] == 1.0\n",
    "# # np.amax(test_preds,axis=1)\n",
    "\n",
    "# for i in range(len(train_p)):\n",
    "#     # print(train_preds[i])\n",
    "#     # print(max(test_preds[i]))\n",
    "#     # print(train_preds[i].argmax())\n",
    "#     train_p[i, train_p[i].argmax()] = 1.0\n",
    "#     train_p[i] = train_p[i] == 1.0"
   ]
  },
  {
   "cell_type": "code",
   "execution_count": 9,
   "metadata": {},
   "outputs": [
    {
     "name": "stdout",
     "output_type": "stream",
     "text": [
      "0.5900621118012422\n"
     ]
    }
   ],
   "source": [
    "test_acc = accuracy_score(y_test, test_preds)\n",
    "print(test_acc)"
   ]
  },
  {
   "cell_type": "code",
   "execution_count": 10,
   "metadata": {},
   "outputs": [
    {
     "name": "stdout",
     "output_type": "stream",
     "text": [
      "0.6871657754010695\n"
     ]
    }
   ],
   "source": [
    "train_acc = accuracy_score(y_train, train_preds)\n",
    "print(train_acc)"
   ]
  },
  {
   "cell_type": "code",
   "execution_count": 11,
   "metadata": {},
   "outputs": [
    {
     "name": "stderr",
     "output_type": "stream",
     "text": [
      "/home/zarko/.local/lib/python3.9/site-packages/sklearn/model_selection/_split.py:680: UserWarning: The least populated class in y has only 13 members, which is less than n_splits=20.\n",
      "  warnings.warn(\n",
      "2023/07/27 16:05:48 INFO mlflow.utils.autologging_utils: Created MLflow autologging run with ID '1868a0a27ef34a60a2ccf443ce17e257', which will track hyperparameters, performance metrics, model artifacts, and lineage information for the current sklearn workflow\n"
     ]
    },
    {
     "name": "stderr",
     "output_type": "stream",
     "text": [
      "/home/zarko/.local/lib/python3.9/site-packages/sklearn/utils/validation.py:1111: DataConversionWarning: A column-vector y was passed when a 1d array was expected. Please change the shape of y to (n_samples, ), for example using ravel().\n",
      "  y = column_or_1d(y, warn=True)\n",
      "2023/07/27 16:05:50 INFO mlflow.utils.autologging_utils: Created MLflow autologging run with ID 'b902c958795c4d6993cc6e355023d7c5', which will track hyperparameters, performance metrics, model artifacts, and lineage information for the current sklearn workflow\n",
      "/home/zarko/.local/lib/python3.9/site-packages/sklearn/utils/validation.py:1111: DataConversionWarning: A column-vector y was passed when a 1d array was expected. Please change the shape of y to (n_samples, ), for example using ravel().\n",
      "  y = column_or_1d(y, warn=True)\n",
      "2023/07/27 16:05:52 INFO mlflow.utils.autologging_utils: Created MLflow autologging run with ID 'a4ae617f97b24706b025da756640e18b', which will track hyperparameters, performance metrics, model artifacts, and lineage information for the current sklearn workflow\n",
      "/home/zarko/.local/lib/python3.9/site-packages/sklearn/utils/validation.py:1111: DataConversionWarning: A column-vector y was passed when a 1d array was expected. Please change the shape of y to (n_samples, ), for example using ravel().\n",
      "  y = column_or_1d(y, warn=True)\n",
      "2023/07/27 16:05:55 INFO mlflow.utils.autologging_utils: Created MLflow autologging run with ID '07e069e596e54b55a5f6069eb6af0571', which will track hyperparameters, performance metrics, model artifacts, and lineage information for the current sklearn workflow\n",
      "/home/zarko/.local/lib/python3.9/site-packages/sklearn/utils/validation.py:1111: DataConversionWarning: A column-vector y was passed when a 1d array was expected. Please change the shape of y to (n_samples, ), for example using ravel().\n",
      "  y = column_or_1d(y, warn=True)\n",
      "2023/07/27 16:05:57 INFO mlflow.utils.autologging_utils: Created MLflow autologging run with ID 'f3424f6d53c3418bbafb7b2e4aad295e', which will track hyperparameters, performance metrics, model artifacts, and lineage information for the current sklearn workflow\n",
      "/home/zarko/.local/lib/python3.9/site-packages/sklearn/utils/validation.py:1111: DataConversionWarning: A column-vector y was passed when a 1d array was expected. Please change the shape of y to (n_samples, ), for example using ravel().\n",
      "  y = column_or_1d(y, warn=True)\n",
      "2023/07/27 16:05:59 INFO mlflow.utils.autologging_utils: Created MLflow autologging run with ID 'ae61f0fc3baf49aebecaa2c2a0b4008b', which will track hyperparameters, performance metrics, model artifacts, and lineage information for the current sklearn workflow\n",
      "/home/zarko/.local/lib/python3.9/site-packages/sklearn/utils/validation.py:1111: DataConversionWarning: A column-vector y was passed when a 1d array was expected. Please change the shape of y to (n_samples, ), for example using ravel().\n",
      "  y = column_or_1d(y, warn=True)\n",
      "2023/07/27 16:06:01 INFO mlflow.utils.autologging_utils: Created MLflow autologging run with ID '8a0d32389dbe4460a19f6cf41e3a138c', which will track hyperparameters, performance metrics, model artifacts, and lineage information for the current sklearn workflow\n",
      "/home/zarko/.local/lib/python3.9/site-packages/sklearn/utils/validation.py:1111: DataConversionWarning: A column-vector y was passed when a 1d array was expected. Please change the shape of y to (n_samples, ), for example using ravel().\n",
      "  y = column_or_1d(y, warn=True)\n",
      "2023/07/27 16:06:02 INFO mlflow.utils.autologging_utils: Created MLflow autologging run with ID 'cb4afed381bb4121a504923affb110e2', which will track hyperparameters, performance metrics, model artifacts, and lineage information for the current sklearn workflow\n",
      "/home/zarko/.local/lib/python3.9/site-packages/sklearn/utils/validation.py:1111: DataConversionWarning: A column-vector y was passed when a 1d array was expected. Please change the shape of y to (n_samples, ), for example using ravel().\n",
      "  y = column_or_1d(y, warn=True)\n",
      "2023/07/27 16:06:04 INFO mlflow.utils.autologging_utils: Created MLflow autologging run with ID '77c19056fb474c4485644beb5e84fe15', which will track hyperparameters, performance metrics, model artifacts, and lineage information for the current sklearn workflow\n",
      "/home/zarko/.local/lib/python3.9/site-packages/sklearn/utils/validation.py:1111: DataConversionWarning: A column-vector y was passed when a 1d array was expected. Please change the shape of y to (n_samples, ), for example using ravel().\n",
      "  y = column_or_1d(y, warn=True)\n",
      "2023/07/27 16:06:06 INFO mlflow.utils.autologging_utils: Created MLflow autologging run with ID '84a5238b40544e51a3effb865c2f4e7c', which will track hyperparameters, performance metrics, model artifacts, and lineage information for the current sklearn workflow\n",
      "/home/zarko/.local/lib/python3.9/site-packages/sklearn/utils/validation.py:1111: DataConversionWarning: A column-vector y was passed when a 1d array was expected. Please change the shape of y to (n_samples, ), for example using ravel().\n",
      "  y = column_or_1d(y, warn=True)\n",
      "2023/07/27 16:06:08 INFO mlflow.utils.autologging_utils: Created MLflow autologging run with ID '6e510b844b6846ea962338d8af820a64', which will track hyperparameters, performance metrics, model artifacts, and lineage information for the current sklearn workflow\n",
      "/home/zarko/.local/lib/python3.9/site-packages/sklearn/utils/validation.py:1111: DataConversionWarning: A column-vector y was passed when a 1d array was expected. Please change the shape of y to (n_samples, ), for example using ravel().\n",
      "  y = column_or_1d(y, warn=True)\n",
      "2023/07/27 16:06:10 INFO mlflow.utils.autologging_utils: Created MLflow autologging run with ID 'd0e1e575514742b1bd0a0fbb428b0eb0', which will track hyperparameters, performance metrics, model artifacts, and lineage information for the current sklearn workflow\n",
      "/home/zarko/.local/lib/python3.9/site-packages/sklearn/utils/validation.py:1111: DataConversionWarning: A column-vector y was passed when a 1d array was expected. Please change the shape of y to (n_samples, ), for example using ravel().\n",
      "  y = column_or_1d(y, warn=True)\n",
      "2023/07/27 16:06:11 INFO mlflow.utils.autologging_utils: Created MLflow autologging run with ID '8cf3e7a0b6a247f59486102a0c45208e', which will track hyperparameters, performance metrics, model artifacts, and lineage information for the current sklearn workflow\n",
      "/home/zarko/.local/lib/python3.9/site-packages/sklearn/utils/validation.py:1111: DataConversionWarning: A column-vector y was passed when a 1d array was expected. Please change the shape of y to (n_samples, ), for example using ravel().\n",
      "  y = column_or_1d(y, warn=True)\n",
      "2023/07/27 16:06:13 INFO mlflow.utils.autologging_utils: Created MLflow autologging run with ID '583e215670b74a5195cf17ccb24bd716', which will track hyperparameters, performance metrics, model artifacts, and lineage information for the current sklearn workflow\n",
      "/home/zarko/.local/lib/python3.9/site-packages/sklearn/utils/validation.py:1111: DataConversionWarning: A column-vector y was passed when a 1d array was expected. Please change the shape of y to (n_samples, ), for example using ravel().\n",
      "  y = column_or_1d(y, warn=True)\n",
      "2023/07/27 16:06:15 INFO mlflow.utils.autologging_utils: Created MLflow autologging run with ID '5777389a19cc43bba28ea57d36f1bf09', which will track hyperparameters, performance metrics, model artifacts, and lineage information for the current sklearn workflow\n",
      "/home/zarko/.local/lib/python3.9/site-packages/sklearn/utils/validation.py:1111: DataConversionWarning: A column-vector y was passed when a 1d array was expected. Please change the shape of y to (n_samples, ), for example using ravel().\n",
      "  y = column_or_1d(y, warn=True)\n",
      "2023/07/27 16:06:17 INFO mlflow.utils.autologging_utils: Created MLflow autologging run with ID 'f4db504f20c14714b3c55b17190ccd0f', which will track hyperparameters, performance metrics, model artifacts, and lineage information for the current sklearn workflow\n",
      "/home/zarko/.local/lib/python3.9/site-packages/sklearn/utils/validation.py:1111: DataConversionWarning: A column-vector y was passed when a 1d array was expected. Please change the shape of y to (n_samples, ), for example using ravel().\n",
      "  y = column_or_1d(y, warn=True)\n",
      "2023/07/27 16:06:18 INFO mlflow.utils.autologging_utils: Created MLflow autologging run with ID '6238c35f867547319cf6c045f1b2f7ec', which will track hyperparameters, performance metrics, model artifacts, and lineage information for the current sklearn workflow\n",
      "/home/zarko/.local/lib/python3.9/site-packages/sklearn/utils/validation.py:1111: DataConversionWarning: A column-vector y was passed when a 1d array was expected. Please change the shape of y to (n_samples, ), for example using ravel().\n",
      "  y = column_or_1d(y, warn=True)\n",
      "2023/07/27 16:06:20 INFO mlflow.utils.autologging_utils: Created MLflow autologging run with ID '82e89a05ce384f47ad45f3c4e2fc2f4d', which will track hyperparameters, performance metrics, model artifacts, and lineage information for the current sklearn workflow\n",
      "/home/zarko/.local/lib/python3.9/site-packages/sklearn/utils/validation.py:1111: DataConversionWarning: A column-vector y was passed when a 1d array was expected. Please change the shape of y to (n_samples, ), for example using ravel().\n",
      "  y = column_or_1d(y, warn=True)\n",
      "2023/07/27 16:06:22 INFO mlflow.utils.autologging_utils: Created MLflow autologging run with ID 'bb4157431e784c21a85bd0e1599637ec', which will track hyperparameters, performance metrics, model artifacts, and lineage information for the current sklearn workflow\n",
      "/home/zarko/.local/lib/python3.9/site-packages/sklearn/utils/validation.py:1111: DataConversionWarning: A column-vector y was passed when a 1d array was expected. Please change the shape of y to (n_samples, ), for example using ravel().\n",
      "  y = column_or_1d(y, warn=True)\n",
      "2023/07/27 16:06:24 INFO mlflow.utils.autologging_utils: Created MLflow autologging run with ID 'db90e9b4cb9144e48a90a31e4658ac19', which will track hyperparameters, performance metrics, model artifacts, and lineage information for the current sklearn workflow\n",
      "/home/zarko/.local/lib/python3.9/site-packages/sklearn/utils/validation.py:1111: DataConversionWarning: A column-vector y was passed when a 1d array was expected. Please change the shape of y to (n_samples, ), for example using ravel().\n",
      "  y = column_or_1d(y, warn=True)\n"
     ]
    },
    {
     "name": "stdout",
     "output_type": "stream",
     "text": [
      "[0.44444444 0.625      0.5        0.875      0.5        0.375\n",
      " 0.5        0.5        0.625      0.375      0.375      0.5\n",
      " 0.25       0.375      0.125      0.75       0.5        0.375\n",
      " 0.375      0.375     ]\n"
     ]
    }
   ],
   "source": [
    "print ((cross_val_score(cls, X_test, y_test, cv=20)))"
   ]
  },
  {
   "cell_type": "code",
   "execution_count": null,
   "metadata": {},
   "outputs": [],
   "source": []
  }
 ],
 "metadata": {
  "kernelspec": {
   "display_name": "Python 3",
   "language": "python",
   "name": "python3"
  },
  "language_info": {
   "codemirror_mode": {
    "name": "ipython",
    "version": 3
   },
   "file_extension": ".py",
   "mimetype": "text/x-python",
   "name": "python",
   "nbconvert_exporter": "python",
   "pygments_lexer": "ipython3",
   "version": "3.9.2"
  },
  "orig_nbformat": 4
 },
 "nbformat": 4,
 "nbformat_minor": 2
}
